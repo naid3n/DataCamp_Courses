{
 "cells": [
  {
   "cell_type": "markdown",
   "metadata": {},
   "source": [
    "# DataCamp Data Engineer Associate Certificate Prep\n",
    "- https://app.datacamp.com/learn/fast-tracks/data-engineer-associate/plan?competency=2\n",
    "- Focus on Competency 2, 3, and 5 (Python programming)"
   ]
  },
  {
   "cell_type": "markdown",
   "metadata": {},
   "source": [
    "### Competency 2: Data Management in Python"
   ]
  },
  {
   "cell_type": "markdown",
   "metadata": {},
   "source": [
    "1. Logic, Control Flow and Filtering\n",
    "- Comparison Operators\n",
    "- Boolean Operators"
   ]
  },
  {
   "cell_type": "code",
   "execution_count": 2,
   "metadata": {},
   "outputs": [
    {
     "data": {
      "text/plain": [
       "array([21.85171573, 20.97505669, 21.75028214, 24.7473475 , 21.44127836])"
      ]
     },
     "execution_count": 2,
     "metadata": {},
     "output_type": "execute_result"
    }
   ],
   "source": [
    "import numpy as np\n",
    "\n",
    "# array(), a function part of the Numpy Library\n",
    "# (): function call. []: a Python list. The function call array() convert the Pytyon list into a Numpy array.\n",
    "\n",
    "np_height = np.array([1.73, 1.68, 1.71, 1.89, 1.79])\n",
    "np_weight = np.array([65.4, 59.2, 63.6, 88.4, 68.7])\n",
    "bmi = np_weight/np_height**2\n",
    "\n",
    "bmi"
   ]
  },
  {
   "cell_type": "markdown",
   "metadata": {},
   "source": []
  },
  {
   "cell_type": "code",
   "execution_count": 29,
   "metadata": {},
   "outputs": [
    {
     "name": "stdout",
     "output_type": "stream",
     "text": [
      "[24.7473475]\n",
      "[21.85171573 21.75028214 21.44127836]\n",
      "[21.85171573 21.75028214 21.44127836]\n",
      "[21.85171573 21.75028214 24.7473475  21.44127836]\n",
      "[ True False  True False  True]\n",
      "[ True False  True  True  True]\n"
     ]
    }
   ],
   "source": [
    "# apply a Boolean indexing or boolean masking to the `bmi` array.\n",
    "\n",
    "print(bmi[bmi>23])\n",
    "\n",
    "\n",
    "# concise and comonly accepted\n",
    "# `&` is a bitwise operator used for element-wise logical AND operations on arrays. \n",
    "\n",
    "print(bmi[(bmi > 21) & (bmi < 24)])\n",
    "\n",
    "# for explicitness or complex conditions. Masked array:\n",
    "print(bmi[np.logical_and(bmi > 21, bmi < 24)])\n",
    "print(bmi[np.logical_not(bmi <= 21, bmi >= 24)])\n",
    "\n",
    "# boolean array\n",
    "print(np.logical_and(bmi > 21, bmi < 24))\n",
    "print(np.logical_not(bmi <= 21, bmi >= 24))"
   ]
  },
  {
   "cell_type": "code",
   "execution_count": 5,
   "metadata": {},
   "outputs": [
    {
     "data": {
      "text/plain": [
       "array([False, False, False,  True, False])"
      ]
     },
     "execution_count": 5,
     "metadata": {},
     "output_type": "execute_result"
    }
   ],
   "source": [
    "bmi>23"
   ]
  },
  {
   "cell_type": "code",
   "execution_count": 14,
   "metadata": {},
   "outputs": [
    {
     "name": "stdout",
     "output_type": "stream",
     "text": [
      "True\n",
      "True\n"
     ]
    }
   ],
   "source": [
    "print(True == 1)\n",
    "print(True > False)"
   ]
  },
  {
   "cell_type": "code",
   "execution_count": 27,
   "metadata": {},
   "outputs": [
    {
     "name": "stdout",
     "output_type": "stream",
     "text": [
      "False\n",
      "False\n",
      "True\n"
     ]
    }
   ],
   "source": [
    "my_kitchen = 18.0\n",
    "your_kitchen = 14.0\n",
    "\n",
    "print(my_kitchen > 10 and my_kitchen < 18)\n",
    "print(my_kitchen < 14 and my_kitchen > 17)\n",
    "print(my_kitchen*2 < your_kitchen*3)\n",
    "\n"
   ]
  },
  {
   "cell_type": "markdown",
   "metadata": {},
   "source": [
    "2. Transforming DataFrames\n",
    "- Sorting and subsetting\n",
    "- Introducing DataFrames"
   ]
  },
  {
   "cell_type": "code",
   "execution_count": 9,
   "metadata": {},
   "outputs": [
    {
     "data": {
      "text/plain": [
       "True"
      ]
     },
     "execution_count": 9,
     "metadata": {},
     "output_type": "execute_result"
    }
   ],
   "source": [
    "\n"
   ]
  },
  {
   "cell_type": "code",
   "execution_count": null,
   "metadata": {},
   "outputs": [],
   "source": []
  }
 ],
 "metadata": {
  "kernelspec": {
   "display_name": "Python 3",
   "language": "python",
   "name": "python3"
  },
  "language_info": {
   "codemirror_mode": {
    "name": "ipython",
    "version": 3
   },
   "file_extension": ".py",
   "mimetype": "text/x-python",
   "name": "python",
   "nbconvert_exporter": "python",
   "pygments_lexer": "ipython3",
   "version": "3.9.6"
  }
 },
 "nbformat": 4,
 "nbformat_minor": 2
}
