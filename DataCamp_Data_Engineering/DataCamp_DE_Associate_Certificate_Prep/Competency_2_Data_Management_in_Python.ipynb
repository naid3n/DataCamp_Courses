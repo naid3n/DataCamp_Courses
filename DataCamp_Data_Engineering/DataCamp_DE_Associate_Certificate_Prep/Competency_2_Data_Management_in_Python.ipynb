{
 "cells": [
  {
   "cell_type": "markdown",
   "metadata": {},
   "source": [
    "# DataCamp Data Engineer Associate Certificate Prep\n",
    "- https://app.datacamp.com/learn/fast-tracks/data-engineer-associate/plan\n",
    "- Focus on Competency 2, 3, and 5 (Python programming)"
   ]
  },
  {
   "cell_type": "markdown",
   "metadata": {},
   "source": [
    "## Competency 2: Data Management in Python"
   ]
  },
  {
   "cell_type": "markdown",
   "metadata": {},
   "source": [
    "### 1. Logic, Control Flow and Filtering\n",
    "- Comparison Operators\n",
    "- Boolean Operators"
   ]
  },
  {
   "cell_type": "code",
   "execution_count": 2,
   "metadata": {},
   "outputs": [
    {
     "data": {
      "text/plain": [
       "array([21.85171573, 20.97505669, 21.75028214, 24.7473475 , 21.44127836])"
      ]
     },
     "execution_count": 2,
     "metadata": {},
     "output_type": "execute_result"
    }
   ],
   "source": [
    "import numpy as np\n",
    "\n",
    "# array(), a function part of the Numpy Library\n",
    "# (): function call. []: a Python list. The function call array() convert the Pytyon list into a Numpy array.\n",
    "\n",
    "np_height = np.array([1.73, 1.68, 1.71, 1.89, 1.79])\n",
    "np_weight = np.array([65.4, 59.2, 63.6, 88.4, 68.7])\n",
    "bmi = np_weight/np_height**2\n",
    "\n",
    "bmi"
   ]
  },
  {
   "cell_type": "markdown",
   "metadata": {},
   "source": []
  },
  {
   "cell_type": "code",
   "execution_count": 29,
   "metadata": {},
   "outputs": [
    {
     "name": "stdout",
     "output_type": "stream",
     "text": [
      "[24.7473475]\n",
      "[21.85171573 21.75028214 21.44127836]\n",
      "[21.85171573 21.75028214 21.44127836]\n",
      "[21.85171573 21.75028214 24.7473475  21.44127836]\n",
      "[ True False  True False  True]\n",
      "[ True False  True  True  True]\n"
     ]
    }
   ],
   "source": [
    "# apply a Boolean indexing or boolean masking to the `bmi` array.\n",
    "\n",
    "print(bmi[bmi>23])\n",
    "\n",
    "\n",
    "# concise and comonly accepted\n",
    "# `&` is a bitwise operator used for element-wise logical AND operations on arrays. \n",
    "\n",
    "print(bmi[(bmi > 21) & (bmi < 24)])\n",
    "\n",
    "# for explicitness or complex conditions. Masked array:\n",
    "print(bmi[np.logical_and(bmi > 21, bmi < 24)])\n",
    "print(bmi[np.logical_not(bmi <= 21, bmi >= 24)])\n",
    "\n",
    "# boolean array\n",
    "print(np.logical_and(bmi > 21, bmi < 24))\n",
    "print(np.logical_not(bmi <= 21, bmi >= 24))"
   ]
  },
  {
   "cell_type": "code",
   "execution_count": 5,
   "metadata": {},
   "outputs": [
    {
     "data": {
      "text/plain": [
       "array([False, False, False,  True, False])"
      ]
     },
     "execution_count": 5,
     "metadata": {},
     "output_type": "execute_result"
    }
   ],
   "source": [
    "bmi>23"
   ]
  },
  {
   "cell_type": "code",
   "execution_count": 14,
   "metadata": {},
   "outputs": [
    {
     "name": "stdout",
     "output_type": "stream",
     "text": [
      "True\n",
      "True\n"
     ]
    }
   ],
   "source": [
    "print(True == 1)\n",
    "print(True > False)"
   ]
  },
  {
   "cell_type": "code",
   "execution_count": 27,
   "metadata": {},
   "outputs": [
    {
     "name": "stdout",
     "output_type": "stream",
     "text": [
      "False\n",
      "False\n",
      "True\n"
     ]
    }
   ],
   "source": [
    "my_kitchen = 18.0\n",
    "your_kitchen = 14.0\n",
    "\n",
    "print(my_kitchen > 10 and my_kitchen < 18)\n",
    "print(my_kitchen < 14 and my_kitchen > 17)\n",
    "print(my_kitchen*2 < your_kitchen*3)"
   ]
  },
  {
   "cell_type": "markdown",
   "metadata": {},
   "source": [
    "### 2. Transforming DataFrames\n",
    "- Sorting and subsetting\n",
    "- Introducing DataFrames"
   ]
  },
  {
   "cell_type": "code",
   "execution_count": 18,
   "metadata": {},
   "outputs": [],
   "source": [
    "# Create a list of dictionaries for the dogs' data\n",
    "import pandas as pd\n",
    "\n",
    "dogs = pd.DataFrame([\n",
    "    {\n",
    "        \"name\": \"Bella\",\n",
    "        \"breed\": \"Labrador\",\n",
    "        \"color\": \"Brown\",\n",
    "        \"height_cm\": 56,\n",
    "        \"weight_kg\": 22,\n",
    "        \"date_of_birth\": \"2013-07-01\"\n",
    "    },\n",
    "    {\n",
    "        \"name\": \"Charlie\",\n",
    "        \"breed\": \"Poodle\",\n",
    "        \"color\": \"Black\",\n",
    "        \"height_cm\": 43,\n",
    "        \"weight_kg\": 22,\n",
    "        \"date_of_birth\": \"2016-09-16\"\n",
    "    },\n",
    "    {\n",
    "        \"name\": \"Lucy\",\n",
    "        \"breed\": \"Chow Chow\",\n",
    "        \"color\": \"Brown\",\n",
    "        \"height_cm\": 46,\n",
    "        \"weight_kg\": 22,\n",
    "        \"date_of_birth\": \"2014-08-25\"\n",
    "    },\n",
    "    {\n",
    "        \"name\": \"Cooper\",\n",
    "        \"breed\": \"Schnauzer\",\n",
    "        \"color\": \"Gray\",\n",
    "        \"height_cm\": 49,\n",
    "        \"weight_kg\": 17,\n",
    "        \"date_of_birth\": \"2011-12-11\"\n",
    "    },\n",
    "    {\n",
    "        \"name\": \"Max\",\n",
    "        \"breed\": \"Labrador\",\n",
    "        \"color\": \"Black\",\n",
    "        \"height_cm\": 59,\n",
    "        \"weight_kg\": 29,\n",
    "        \"date_of_birth\": \"2017-01-20\"\n",
    "    },\n",
    "    {\n",
    "        \"name\": \"Stella\",\n",
    "        \"breed\": \"Chihuahua\",\n",
    "        \"color\": \"Tan\",\n",
    "        \"height_cm\": 18,\n",
    "        \"weight_kg\": 2.2,\n",
    "        \"date_of_birth\": \"2015-04-20\"\n",
    "    },\n",
    "    {\n",
    "        \"name\": \"Bernie\",\n",
    "        \"breed\": \"St. Bernard\",\n",
    "        \"color\": \"White\",\n",
    "        \"height_cm\": 77,\n",
    "        \"weight_kg\": 74,\n",
    "        \"date_of_birth\": \"2018-02-27\"\n",
    "    }\n",
    "])"
   ]
  },
  {
   "cell_type": "code",
   "execution_count": 47,
   "metadata": {},
   "outputs": [
    {
     "name": "stdout",
     "output_type": "stream",
     "text": [
      "      name        breed  color  height_cm  weight_kg date_of_birth\n",
      "5   Stella    Chihuahua    Tan         18        2.2    2015-04-20\n",
      "3   Cooper    Schnauzer   Gray         49       17.0    2011-12-11\n",
      "0    Bella     Labrador  Brown         56       22.0    2013-07-01\n",
      "1  Charlie       Poodle  Black         43       22.0    2016-09-16\n",
      "2     Lucy    Chow Chow  Brown         46       22.0    2014-08-25\n",
      "4      Max     Labrador  Black         59       29.0    2017-01-20\n",
      "6   Bernie  St. Bernard  White         77       74.0    2018-02-27\n",
      "\n",
      "\n",
      "      name        breed  color  height_cm  weight_kg date_of_birth\n",
      "6   Bernie  St. Bernard  White         77       74.0    2018-02-27\n",
      "4      Max     Labrador  Black         59       29.0    2017-01-20\n",
      "0    Bella     Labrador  Brown         56       22.0    2013-07-01\n",
      "1  Charlie       Poodle  Black         43       22.0    2016-09-16\n",
      "2     Lucy    Chow Chow  Brown         46       22.0    2014-08-25\n",
      "3   Cooper    Schnauzer   Gray         49       17.0    2011-12-11\n",
      "5   Stella    Chihuahua    Tan         18        2.2    2015-04-20\n",
      "\n",
      "\n",
      "      name        breed  color  height_cm  weight_kg date_of_birth\n",
      "5   Stella    Chihuahua    Tan         18        2.2    2015-04-20\n",
      "3   Cooper    Schnauzer   Gray         49       17.0    2011-12-11\n",
      "0    Bella     Labrador  Brown         56       22.0    2013-07-01\n",
      "2     Lucy    Chow Chow  Brown         46       22.0    2014-08-25\n",
      "1  Charlie       Poodle  Black         43       22.0    2016-09-16\n",
      "4      Max     Labrador  Black         59       29.0    2017-01-20\n",
      "6   Bernie  St. Bernard  White         77       74.0    2018-02-27\n",
      "\n",
      "\n"
     ]
    }
   ],
   "source": [
    "# various sorting queries\n",
    "\n",
    "queries = [\n",
    "    dogs.sort_values(\"weight_kg\"), # sort by a col, ascending\n",
    "    dogs.sort_values(\"weight_kg\", ascending = False), # sort by a col, descending\n",
    "    dogs.sort_values([\"weight_kg\", \"height_cm\"], ascending = [True, False]) # sort by multi-orders\n",
    "]\n",
    "\n",
    "for result in queries:\n",
    "    print(result)\n",
    "    print(\"\\n\")"
   ]
  },
  {
   "cell_type": "code",
   "execution_count": 53,
   "metadata": {},
   "outputs": [
    {
     "name": "stdout",
     "output_type": "stream",
     "text": [
      "0    56\n",
      "1    43\n",
      "2    46\n",
      "3    49\n",
      "4    59\n",
      "5    18\n",
      "6    77\n",
      "Name: height_cm, dtype: int64\n",
      "\n",
      "\n",
      "         breed  height_cm\n",
      "0     Labrador         56\n",
      "1       Poodle         43\n",
      "2    Chow Chow         46\n",
      "3    Schnauzer         49\n",
      "4     Labrador         59\n",
      "5    Chihuahua         18\n",
      "6  St. Bernard         77\n",
      "\n",
      "\n",
      "     name        breed  color  height_cm  weight_kg date_of_birth\n",
      "0   Bella     Labrador  Brown         56       22.0    2013-07-01\n",
      "4     Max     Labrador  Black         59       29.0    2017-01-20\n",
      "6  Bernie  St. Bernard  White         77       74.0    2018-02-27\n",
      "\n",
      "\n",
      "    name     breed  color  height_cm  weight_kg date_of_birth\n",
      "0  Bella  Labrador  Brown         56       22.0    2013-07-01\n",
      "4    Max  Labrador  Black         59       29.0    2017-01-20\n",
      "\n",
      "\n",
      "     name      breed  color  height_cm  weight_kg date_of_birth\n",
      "0   Bella   Labrador  Brown         56       22.0    2013-07-01\n",
      "2    Lucy  Chow Chow  Brown         46       22.0    2014-08-25\n",
      "3  Cooper  Schnauzer   Gray         49       17.0    2011-12-11\n",
      "\n",
      "\n",
      "    name     breed  color  height_cm  weight_kg date_of_birth\n",
      "0  Bella  Labrador  Brown         56       22.0    2013-07-01\n",
      "\n",
      "\n",
      "      name      breed  color  height_cm  weight_kg date_of_birth\n",
      "0    Bella   Labrador  Brown         56       22.0    2013-07-01\n",
      "1  Charlie     Poodle  Black         43       22.0    2016-09-16\n",
      "2     Lucy  Chow Chow  Brown         46       22.0    2014-08-25\n",
      "4      Max   Labrador  Black         59       29.0    2017-01-20\n",
      "\n",
      "\n"
     ]
    }
   ],
   "source": [
    "# various subsetting queries\n",
    "\n",
    "queries = [\n",
    "    # subset columns\n",
    "    dogs[\"height_cm\"], # subset a single col\n",
    "    dogs[[\"breed\", \"height_cm\"]], # inner brackets: pass a list. outer brackets: subset multiple cols\n",
    "    \n",
    "    # subset rows\n",
    "    dogs[dogs[\"height_cm\"] > 50], # subset rows. inner bracket: boolean mask\n",
    "    dogs[dogs[\"breed\"] == \"Labrador\"],\n",
    "    dogs[dogs[\"date_of_birth\"] < \"2015-01-01\"],\n",
    "\n",
    "    dogs[(dogs[\"breed\"] == \"Labrador\") & (dogs[\"color\"] == \"Brown\")], # subset rows based on single value. & and round brackets are required\n",
    "    dogs[dogs[\"color\"].isin([\"Black\", \"Brown\"])] #isin is a method. subset multi-rows\n",
    "    \n",
    "]\n",
    "\n",
    "for result in queries:\n",
    "    print(result)\n",
    "    print(\"\\n\")"
   ]
  },
  {
   "cell_type": "code",
   "execution_count": 69,
   "metadata": {},
   "outputs": [
    {
     "name": "stdout",
     "output_type": "stream",
     "text": [
      "<class 'pandas.core.frame.DataFrame'>\n",
      "RangeIndex: 7 entries, 0 to 6\n",
      "Data columns (total 6 columns):\n",
      " #   Column         Non-Null Count  Dtype  \n",
      "---  ------         --------------  -----  \n",
      " 0   name           7 non-null      object \n",
      " 1   breed          7 non-null      object \n",
      " 2   color          7 non-null      object \n",
      " 3   height_cm      7 non-null      int64  \n",
      " 4   weight_kg      7 non-null      float64\n",
      " 5   date_of_birth  7 non-null      object \n",
      "dtypes: float64(1), int64(1), object(4)\n",
      "memory usage: 464.0+ bytes\n",
      "      name      breed  color  height_cm  weight_kg date_of_birth\n",
      "0    Bella   Labrador  Brown         56       22.0    2013-07-01\n",
      "1  Charlie     Poodle  Black         43       22.0    2016-09-16\n",
      "2     Lucy  Chow Chow  Brown         46       22.0    2014-08-25\n",
      "\n",
      "\n",
      "None\n",
      "\n",
      "\n",
      "       height_cm  weight_kg\n",
      "count   7.000000   7.000000\n",
      "mean   49.714286  26.885714\n",
      "std    17.960274  22.371666\n",
      "min    18.000000   2.200000\n",
      "25%    44.500000  19.500000\n",
      "50%    49.000000  22.000000\n",
      "75%    57.500000  25.500000\n",
      "max    77.000000  74.000000\n",
      "\n",
      "\n",
      "(7, 6)\n",
      "\n",
      "\n",
      "Index(['name', 'breed', 'color', 'height_cm', 'weight_kg', 'date_of_birth'], dtype='object')\n",
      "\n",
      "\n",
      "RangeIndex(start=0, stop=7, step=1)\n",
      "\n",
      "\n",
      "name              object\n",
      "breed             object\n",
      "color             object\n",
      "height_cm          int64\n",
      "weight_kg        float64\n",
      "date_of_birth     object\n",
      "dtype: object\n",
      "\n",
      "\n"
     ]
    }
   ],
   "source": [
    "# various DataFrame exploration functions\n",
    "\n",
    "queries = [\n",
    "    # methods\n",
    "    dogs.head(3),\n",
    "    dogs.info(),\n",
    "    dogs.describe(),\n",
    "\n",
    "    # attributes\n",
    "    # this is an attribute returning a tuple, not method. It doesn't have parentheses. \n",
    "    dogs.shape,\n",
    "    dogs.columns,\n",
    "    dogs.index, # row labels are stored in dot-index\n",
    "    dogs.dtypes\n",
    "]\n",
    "\n",
    "for result in queries:\n",
    "    print(result)\n",
    "    print(\"\\n\")"
   ]
  },
  {
   "cell_type": "markdown",
   "metadata": {},
   "source": [
    "### 4. Regular Expressions for Pattern Matching"
   ]
  },
  {
   "cell_type": "code",
   "execution_count": 104,
   "metadata": {},
   "outputs": [],
   "source": [
    "# r'st\\d\\s\\w{3,10}'\n",
    "# r: raw string\n",
    "# st: normal characterse match themselves - s followed by a t\n",
    "# metacharacters: \n",
    "# \\d (a digit, number) \n",
    "# \\D (a non-digit, non-number) \n",
    "# \\s (a white space)\n",
    "# \\S (a non-white space)\n",
    "# \\w (a word character, or represent ideas)\n",
    "# \\W (a non-word, e.g., dollar sign)\n",
    "# {3, 10} (the character immediately to the left, \\w, should appear between 3 and 10 times)"
   ]
  },
  {
   "cell_type": "code",
   "execution_count": 2,
   "metadata": {},
   "outputs": [],
   "source": [
    "import re\n",
    "\n",
    "string1 = '''These XP are awarded based on the completion of lessons,\n",
    "    exercises within a course, or other learning activities. \n",
    "    As users progress through courses and successfully complete exercises, they accumulate XP.\n",
    "\n",
    "    The XP system is designed to motivate learners, encourage consistent learning behavior, \n",
    "    and provide a sense of accomplishment as users advance through the courses and exercises on the platform. \n",
    "    '''\n"
   ]
  },
  {
   "cell_type": "code",
   "execution_count": 94,
   "metadata": {},
   "outputs": [
    {
     "name": "stdout",
     "output_type": "stream",
     "text": [
      "['XP', 'XP', 'XP']\n",
      "['These XP are awarded based on the completion of lessons,\\n    exercises within a course, or other learning activities', ' \\n    As users progress through courses and successfully complete exercises, they accumulate XP', '\\n\\n    The XP system is designed to motivate learners, encourage consistent learning behavior, \\n    and provide a sense of accomplishment as users advance through the courses and exercises on the platform', ' \\n    ']\n"
     ]
    },
    {
     "data": {
      "text/plain": [
       "'These Exp Points are awarded based on the completion of lessons,\\n    exercises within a course, or other learning activities. \\n    As users progress through courses and successfully complete exercises, they accumulate Exp Points.\\n\\n    The Exp Points system is designed to motivate learners, encourage consistent learning behavior, \\n    and provide a sense of accomplishment as users advance through the courses and exercises on the platform. \\n    '"
      ]
     },
     "execution_count": 94,
     "metadata": {},
     "output_type": "execute_result"
    }
   ],
   "source": [
    "# Find how many sub-strings match\n",
    "print(re.findall(r\"XP\", string1))\n",
    "\n",
    "# Split the long sentence by period mark\n",
    "print(re.split(r'\\.', string1))\n",
    "\n",
    "# Replace word\n",
    "re.sub(r\"XP\", \"Exp Points\", string1)\n"
   ]
  },
  {
   "cell_type": "code",
   "execution_count": 97,
   "metadata": {},
   "outputs": [
    {
     "name": "stdout",
     "output_type": "stream",
     "text": [
      "['User9', 'User8']\n",
      "['UserN']\n",
      "['User9', 'UserN', 'User8']\n"
     ]
    }
   ],
   "source": [
    "# Find digit, non-digit\n",
    "string2 = \"The winners are: User9, UserN, User8\"\n",
    "print(re.findall(r\"User\\d\", string2))\n",
    "print(re.findall(r\"User\\D\", string2))\n",
    "print(re.findall(r\"User\\w\", string2))"
   ]
  },
  {
   "cell_type": "code",
   "execution_count": 103,
   "metadata": {},
   "outputs": [
    {
     "name": "stdout",
     "output_type": "stream",
     "text": [
      "['$5']\n",
      "['on sale', 'on sale']\n",
      "['robot-constumes']\n"
     ]
    }
   ],
   "source": [
    "# Find dollar sign + number\n",
    "string3 = \"This skirt is on sale, only $5 today! We also have robot-constumes on sale.\"\n",
    "print(re.findall(r\"\\W\\d\", string3))\n",
    "\n",
    "# Find whitespace\n",
    "print(re.findall(r\"on\\ssale\", string3))\n",
    "\n",
    "# Find non-whitespace\n",
    "print(re.findall(r\"robot\\Sconstumes\", string3))"
   ]
  },
  {
   "cell_type": "code",
   "execution_count": 3,
   "metadata": {},
   "outputs": [
    {
     "name": "stdout",
     "output_type": "stream",
     "text": [
      "Hi, World!\n"
     ]
    }
   ],
   "source": [
    "# Replace\n",
    "my_string = \"Hello, World!\"\n",
    "new_string = re.sub(r\"Hello\", \"Hi\", my_string)\n",
    "print(new_string)  # Output: Hi, World!"
   ]
  },
  {
   "cell_type": "markdown",
   "metadata": {},
   "source": [
    "### 6. Lambda Functions and Error-Handling"
   ]
  },
  {
   "cell_type": "code",
   "execution_count": 7,
   "metadata": {},
   "outputs": [
    {
     "data": {
      "text/plain": [
       "8"
      ]
     },
     "execution_count": 7,
     "metadata": {},
     "output_type": "execute_result"
    }
   ],
   "source": [
    "raise_to_power = lambda x, y: x**y\n",
    "raise_to_power(2,3)"
   ]
  },
  {
   "cell_type": "code",
   "execution_count": 13,
   "metadata": {},
   "outputs": [
    {
     "name": "stdout",
     "output_type": "stream",
     "text": [
      "<map object at 0x107b0ad90>\n",
      "[2304, 36, 81, 441, 1]\n"
     ]
    }
   ],
   "source": [
    "nums = [48, 6, 9, 21, 1]\n",
    "\n",
    "# map(): returns an iterator object which avoids unnecessary memory usage\n",
    "# simple functionalities to be anonyumously embedded within larger expressions\n",
    "\n",
    "square_all = map(lambda num: num**2, nums)  \n",
    "print(square_all)\n",
    "print(list(square_all))"
   ]
  },
  {
   "cell_type": "code",
   "execution_count": 14,
   "metadata": {},
   "outputs": [
    {
     "data": {
      "text/plain": [
       "'hello!!!'"
      ]
     },
     "execution_count": 14,
     "metadata": {},
     "output_type": "execute_result"
    }
   ],
   "source": [
    "add_bangs = lambda str: str + '!!!'\n",
    "add_bangs('hello')"
   ]
  },
  {
   "cell_type": "code",
   "execution_count": 15,
   "metadata": {},
   "outputs": [
    {
     "name": "stdout",
     "output_type": "stream",
     "text": [
      "heyheyheyheyhey\n"
     ]
    }
   ],
   "source": [
    "echo_word = lambda word1, echo: word1*echo\n",
    "result = echo_word('hey', 5)\n",
    "print(result)"
   ]
  },
  {
   "cell_type": "code",
   "execution_count": 1,
   "metadata": {},
   "outputs": [
    {
     "name": "stdout",
     "output_type": "stream",
     "text": [
      "['samwise', 'aragorn', 'boromir', 'legolas', 'gandalf']\n"
     ]
    }
   ],
   "source": [
    "# Create a list of strings: fellowship\n",
    "fellowship = ['frodo', 'samwise', 'merry', 'pippin', 'aragorn', 'boromir', 'legolas', 'gimli', 'gandalf']\n",
    "\n",
    "# Use filter() to apply a lambda function over fellowship: result\n",
    "result = filter(lambda member: len(member) > 6, fellowship)\n",
    "\n",
    "# Convert result to a list: result_list\n",
    "result_list = list(result)\n",
    "\n",
    "# Print result_list\n",
    "print(result_list)"
   ]
  },
  {
   "cell_type": "code",
   "execution_count": 2,
   "metadata": {},
   "outputs": [
    {
     "name": "stdout",
     "output_type": "stream",
     "text": [
      "robbsansaaryabrandonrickon\n"
     ]
    }
   ],
   "source": [
    "# Import reduce from functools\n",
    "from functools import reduce\n",
    "\n",
    "# Create a list of strings: stark\n",
    "stark = ['robb', 'sansa', 'arya', 'brandon', 'rickon']\n",
    "\n",
    "# Use reduce() to apply a lambda function over stark: result\n",
    "result = reduce(lambda item1, item2: item1+item2, stark)\n",
    "\n",
    "# Print the result\n",
    "print(result)"
   ]
  },
  {
   "cell_type": "markdown",
   "metadata": {},
   "source": [
    "### 7. Functions, Methods, and Packages\n",
    "- help(round) or ?round # look up documentation of a function. \n",
    "- In Python, everything is an object. Object have methods associated, depending their types. \n",
    "- E.g., \"list\" object has no attribute as \"replace\". Both \"list\" and \"string\" have \"index\" method. \n",
    "- List methods that will change the list: append(), remove(), reverse()"
   ]
  },
  {
   "cell_type": "code",
   "execution_count": 10,
   "metadata": {},
   "outputs": [
    {
     "name": "stdout",
     "output_type": "stream",
     "text": [
      "[11.25, 18.0, 20.0, 10.75, 9.5, 24.5, 15.45]\n",
      "None\n"
     ]
    }
   ],
   "source": [
    "areas = [11.25, 18.0, 20.0, 10.75, 9.50]\n",
    "\n",
    "# This doesn't work because append modifies the list in place. \n",
    "# It doesn't return a new list. It returns None.\n",
    "# areas.append(24.5).append(15.45)\n",
    "\n",
    "areas.append(24.5)\n",
    "areas.append(15.45)\n",
    "print(areas)\n",
    "print(areas.append(24.5))"
   ]
  },
  {
   "cell_type": "code",
   "execution_count": 26,
   "metadata": {},
   "outputs": [
    {
     "name": "stdout",
     "output_type": "stream",
     "text": [
      "\u001b[0;31mSignature:\u001b[0m \u001b[0mlist\u001b[0m\u001b[0;34m.\u001b[0m\u001b[0mappend\u001b[0m\u001b[0;34m(\u001b[0m\u001b[0mself\u001b[0m\u001b[0;34m,\u001b[0m \u001b[0mobject\u001b[0m\u001b[0;34m,\u001b[0m \u001b[0;34m/\u001b[0m\u001b[0;34m)\u001b[0m\u001b[0;34m\u001b[0m\u001b[0;34m\u001b[0m\u001b[0m\n",
      "\u001b[0;31mDocstring:\u001b[0m Append object to the end of the list.\n",
      "\u001b[0;31mType:\u001b[0m      method_descriptor"
     ]
    }
   ],
   "source": [
    "list.append?\n"
   ]
  },
  {
   "cell_type": "markdown",
   "metadata": {},
   "source": [
    "* Packages: a directory of Python scripts (modules). \n",
    "* https://pip.pypa.io/en/stable/installation/\n",
    "* Pros and cons of import numpy as np (preferred for clarity); from numpy import array; import numpy.array"
   ]
  },
  {
   "cell_type": "code",
   "execution_count": 17,
   "metadata": {},
   "outputs": [
    {
     "name": "stdout",
     "output_type": "stream",
     "text": [
      "       A   B  C\n",
      "Row_1  1  10  a\n",
      "Row_2  2  20  b\n",
      "Row_3  3  30  c\n",
      "Row_4  4  40  d\n",
      "Row_5  5  50  e\n",
      "       A  C\n",
      "Row_2  2  b\n",
      "Row_4  4  d\n"
     ]
    }
   ],
   "source": [
    "# Examples: using index and loc \n",
    "\n",
    "import pandas as pd\n",
    "\n",
    "# Sample DataFrame\n",
    "data = pd.DataFrame({\n",
    "    'A': [1, 2, 3, 4, 5],\n",
    "    'B': [10, 20, 30, 40, 50],\n",
    "    'C': ['a', 'b', 'c', 'd', 'e']\n",
    "}, index=['Row_1', 'Row_2', 'Row_3', 'Row_4', 'Row_5'])\n",
    "\n",
    "# Using loc and index together\n",
    "result = data.loc[data.index.isin(['Row_2', 'Row_4']), ['A', 'C']]\n",
    "print(data)\n",
    "print(result)"
   ]
  },
  {
   "cell_type": "code",
   "execution_count": 21,
   "metadata": {},
   "outputs": [
    {
     "name": "stdout",
     "output_type": "stream",
     "text": [
      "2023-12-02\n",
      "2023-12-02\n"
     ]
    }
   ],
   "source": [
    "# Two ways to retrieve today\n",
    "\n",
    "import datetime as dt\n",
    "today_date1 = dt.date.today()\n",
    "print(today_date1)\n",
    "\n",
    "today_date2 = pd.Timestamp.today().date()\n",
    "print(today_date2)\n",
    "\n",
    "# ride_sharing['ride_dt'] = pd.to_datetime(ride_sharing['ride_date']).dt.date\n",
    "# here .dt is a pandas accessor\n"
   ]
  },
  {
   "cell_type": "markdown",
   "metadata": {},
   "source": [
    "### 8. Default and Flexible Arguments"
   ]
  },
  {
   "cell_type": "code",
   "execution_count": 23,
   "metadata": {},
   "outputs": [
    {
     "name": "stdout",
     "output_type": "stream",
     "text": [
      "81\n",
      "9\n"
     ]
    }
   ],
   "source": [
    "# Default argument\n",
    "def power(number, pow = 1):\n",
    "    new_value = number ** pow\n",
    "    return new_value\n",
    "\n",
    "print(power(9,2))\n",
    "print(power(9))"
   ]
  },
  {
   "cell_type": "code",
   "execution_count": 25,
   "metadata": {},
   "outputs": [
    {
     "name": "stdout",
     "output_type": "stream",
     "text": [
      "21\n"
     ]
    }
   ],
   "source": [
    "# Flexible argument - not sure how many args user will input\n",
    "def add_all(*args):\n",
    "    sum_all = 0\n",
    "    for num in args:\n",
    "        sum_all = sum_all + num \n",
    "    return sum_all\n",
    "\n",
    "print(add_all(1, 2, 3, 4, 5, 6))"
   ]
  },
  {
   "cell_type": "code",
   "execution_count": 7,
   "metadata": {},
   "outputs": [
    {
     "name": "stdout",
     "output_type": "stream",
     "text": [
      "name:Alice\n",
      "age:30\n",
      "city:New York\n"
     ]
    }
   ],
   "source": [
    "# keyword arguments (kwargs)\n",
    "def print_all(**kwargs):\n",
    "    \"\"\"Print key-value pairs\"\"\"\n",
    "\n",
    "    for key, value in kwargs.items():\n",
    "        print(f\"{key}:{value}\") # f-strings offer a more straightforward and readable alternative\n",
    "\n",
    "print_all(name = 'Alice', age = 30, city = \"New York\")"
   ]
  },
  {
   "cell_type": "markdown",
   "metadata": {},
   "source": [
    "### 9. Visualizing DataFrames - Missing Values"
   ]
  },
  {
   "cell_type": "code",
   "execution_count": 16,
   "metadata": {},
   "outputs": [
    {
     "name": "stdout",
     "output_type": "stream",
     "text": [
      "     A    B    C      D    E\n",
      "0  1.0    a  0.1   True    X\n",
      "1  2.0    b  0.2  False  NaN\n",
      "2  NaN    c  NaN    NaN    Z\n",
      "3  4.0  NaN  0.4   True    Y\n",
      "4  5.0    e  0.5  False  NaN\n"
     ]
    }
   ],
   "source": [
    "# Sample DataFrame with missing values\n",
    "import pandas as pd\n",
    "import numpy as np\n",
    "import matplotlib.pyplot as plt \n",
    "\n",
    "data = {\n",
    "    'A': [1, 2, np.nan, 4, 5],\n",
    "    'B': ['a', 'b', 'c', np.nan, 'e'],\n",
    "    'C': [0.1, 0.2, np.nan, 0.4, 0.5],\n",
    "    'D': [True, False, np.nan, True, False],\n",
    "    'E': ['X', np.nan, 'Z', 'Y', np.nan]\n",
    "}\n",
    "\n",
    "# Create a DataFrame from the data dictionary\n",
    "df = pd.DataFrame(data)\n",
    "\n",
    "# Display the DataFrame\n",
    "print(df)"
   ]
  },
  {
   "cell_type": "code",
   "execution_count": 18,
   "metadata": {},
   "outputs": [
    {
     "data": {
      "text/html": [
       "<div>\n",
       "<style scoped>\n",
       "    .dataframe tbody tr th:only-of-type {\n",
       "        vertical-align: middle;\n",
       "    }\n",
       "\n",
       "    .dataframe tbody tr th {\n",
       "        vertical-align: top;\n",
       "    }\n",
       "\n",
       "    .dataframe thead th {\n",
       "        text-align: right;\n",
       "    }\n",
       "</style>\n",
       "<table border=\"1\" class=\"dataframe\">\n",
       "  <thead>\n",
       "    <tr style=\"text-align: right;\">\n",
       "      <th></th>\n",
       "      <th>A</th>\n",
       "      <th>B</th>\n",
       "      <th>C</th>\n",
       "      <th>D</th>\n",
       "      <th>E</th>\n",
       "    </tr>\n",
       "  </thead>\n",
       "  <tbody>\n",
       "    <tr>\n",
       "      <th>0</th>\n",
       "      <td>False</td>\n",
       "      <td>False</td>\n",
       "      <td>False</td>\n",
       "      <td>False</td>\n",
       "      <td>False</td>\n",
       "    </tr>\n",
       "    <tr>\n",
       "      <th>1</th>\n",
       "      <td>False</td>\n",
       "      <td>False</td>\n",
       "      <td>False</td>\n",
       "      <td>False</td>\n",
       "      <td>True</td>\n",
       "    </tr>\n",
       "    <tr>\n",
       "      <th>2</th>\n",
       "      <td>True</td>\n",
       "      <td>False</td>\n",
       "      <td>True</td>\n",
       "      <td>True</td>\n",
       "      <td>False</td>\n",
       "    </tr>\n",
       "    <tr>\n",
       "      <th>3</th>\n",
       "      <td>False</td>\n",
       "      <td>True</td>\n",
       "      <td>False</td>\n",
       "      <td>False</td>\n",
       "      <td>False</td>\n",
       "    </tr>\n",
       "    <tr>\n",
       "      <th>4</th>\n",
       "      <td>False</td>\n",
       "      <td>False</td>\n",
       "      <td>False</td>\n",
       "      <td>False</td>\n",
       "      <td>True</td>\n",
       "    </tr>\n",
       "  </tbody>\n",
       "</table>\n",
       "</div>"
      ],
      "text/plain": [
       "       A      B      C      D      E\n",
       "0  False  False  False  False  False\n",
       "1  False  False  False  False   True\n",
       "2   True  False   True   True  False\n",
       "3  False   True  False  False  False\n",
       "4  False  False  False  False   True"
      ]
     },
     "execution_count": 18,
     "metadata": {},
     "output_type": "execute_result"
    }
   ],
   "source": [
    "df.isna()"
   ]
  },
  {
   "cell_type": "code",
   "execution_count": 19,
   "metadata": {},
   "outputs": [
    {
     "data": {
      "text/plain": [
       "A    True\n",
       "B    True\n",
       "C    True\n",
       "D    True\n",
       "E    True\n",
       "dtype: bool"
      ]
     },
     "execution_count": 19,
     "metadata": {},
     "output_type": "execute_result"
    }
   ],
   "source": [
    "df.isna().any()"
   ]
  },
  {
   "cell_type": "code",
   "execution_count": 22,
   "metadata": {},
   "outputs": [
    {
     "data": {
      "text/plain": [
       "<Axes: >"
      ]
     },
     "execution_count": 22,
     "metadata": {},
     "output_type": "execute_result"
    },
    {
     "data": {
      "image/png": "[encoded data removed]",
      "text/plain": [
       "<Figure size 640x480 with 1 Axes>"
      ]
     },
     "metadata": {},
     "output_type": "display_data"
    }
   ],
   "source": [
    "df.isna().sum().plot(kind = \"bar\")"
   ]
  },
  {
   "cell_type": "code",
   "execution_count": 31,
   "metadata": {},
   "outputs": [
    {
     "data": {
      "image/png": "[encoded data removed]",
      "text/plain": [
       "<Figure size 640x480 with 1 Axes>"
      ]
     },
     "metadata": {},
     "output_type": "display_data"
    }
   ],
   "source": [
    "cols_with_missing=['A', 'D', 'E']\n",
    "df[cols_with_missing].hist()\n",
    "plt.show()"
   ]
  },
  {
   "cell_type": "markdown",
   "metadata": {},
   "source": [
    "### 10. Monitoring Performance and Business Value - Working with calculated and estimated results"
   ]
  },
  {
   "cell_type": "markdown",
   "metadata": {},
   "source": [
    "- Learning about NannyML\n",
    "- Different chunking methods\n",
    "- CBPE: Confidence-Based Performance Estimation \n",
    "- https://towardsdatascience.com/predict-your-models-performance-without-waiting-for-the-control-group-3f5c9363a7da\n",
    "- NannyML documentation: https://nannyml.readthedocs.io/en/stable/landing_page.html"
   ]
  },
  {
   "cell_type": "code",
   "execution_count": null,
   "metadata": {},
   "outputs": [],
   "source": []
  }
 ],
 "metadata": {
  "kernelspec": {
   "display_name": "Python 3",
   "language": "python",
   "name": "python3"
  },
  "language_info": {
   "codemirror_mode": {
    "name": "ipython",
    "version": 3
   },
   "file_extension": ".py",
   "mimetype": "text/x-python",
   "name": "python",
   "nbconvert_exporter": "python",
   "pygments_lexer": "ipython3",
   "version": "3.9.6"
  }
 },
 "nbformat": 4,
 "nbformat_minor": 2
}
