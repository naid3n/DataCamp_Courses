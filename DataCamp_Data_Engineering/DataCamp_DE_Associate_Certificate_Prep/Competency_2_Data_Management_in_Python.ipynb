{
 "cells": [
  {
   "cell_type": "markdown",
   "metadata": {},
   "source": [
    "# DataCamp Data Engineer Associate Certificate Prep\n",
    "- https://app.datacamp.com/learn/fast-tracks/data-engineer-associate/plan\n",
    "- Focus on Competency 2, 3, and 5 (Python programming)"
   ]
  },
  {
   "cell_type": "code",
   "execution_count": 3,
   "metadata": {},
   "outputs": [],
   "source": [
    "# !python3.12 -m pip install --upgrade pip"
   ]
  },
  {
   "cell_type": "code",
   "execution_count": 60,
   "metadata": {},
   "outputs": [],
   "source": [
    "# !pip3 install python-dotenv\n",
    "# !pip3 install numpy pandas python-dotenv\n",
    "# !pip3 install matplotlib"
   ]
  },
  {
   "cell_type": "code",
   "execution_count": 5,
   "metadata": {},
   "outputs": [],
   "source": [
    "# !pip3 list"
   ]
  },
  {
   "cell_type": "code",
   "execution_count": 5,
   "metadata": {},
   "outputs": [
    {
     "name": "stdout",
     "output_type": "stream",
     "text": [
      "/opt/homebrew/opt/python@3.12/bin/python3.12\n"
     ]
    }
   ],
   "source": [
    "import sys\n",
    "print(sys.executable)"
   ]
  },
  {
   "cell_type": "code",
   "execution_count": 61,
   "metadata": {},
   "outputs": [],
   "source": [
    "import numpy as np\n",
    "import pandas as pd\n",
    "import matplotlib.pyplot as plt\n",
    "\n",
    "import os\n",
    "from dotenv import load_dotenv"
   ]
  },
  {
   "cell_type": "markdown",
   "metadata": {},
   "source": [
    "## Competency 2: Data Management in Python"
   ]
  },
  {
   "cell_type": "markdown",
   "metadata": {},
   "source": [
    "### 1. Logic, Control Flow and Filtering\n",
    "- Comparison Operators\n",
    "- Boolean Operators"
   ]
  },
  {
   "cell_type": "code",
   "execution_count": 4,
   "metadata": {},
   "outputs": [
    {
     "data": {
      "text/plain": [
       "array([21.85171573, 20.97505669, 21.75028214, 24.7473475 , 21.44127836])"
      ]
     },
     "execution_count": 4,
     "metadata": {},
     "output_type": "execute_result"
    }
   ],
   "source": [
    "# array(), a function part of the Numpy Library\n",
    "# (): function call. []: a Python list. The function call array() convert the Pytyon list into a Numpy array.\n",
    "\n",
    "np_height = np.array([1.73, 1.68, 1.71, 1.89, 1.79])\n",
    "np_weight = np.array([65.4, 59.2, 63.6, 88.4, 68.7])\n",
    "bmi = np_weight/np_height**2\n",
    "\n",
    "bmi"
   ]
  },
  {
   "cell_type": "markdown",
   "metadata": {},
   "source": []
  },
  {
   "cell_type": "code",
   "execution_count": 29,
   "metadata": {},
   "outputs": [
    {
     "name": "stdout",
     "output_type": "stream",
     "text": [
      "[24.7473475]\n",
      "[21.85171573 21.75028214 21.44127836]\n",
      "[21.85171573 21.75028214 21.44127836]\n",
      "[21.85171573 21.75028214 24.7473475  21.44127836]\n",
      "[ True False  True False  True]\n",
      "[ True False  True  True  True]\n"
     ]
    }
   ],
   "source": [
    "# apply a Boolean indexing or boolean masking to the `bmi` array.\n",
    "\n",
    "print(bmi[bmi>23])\n",
    "\n",
    "\n",
    "# concise and comonly accepted\n",
    "# `&` is a bitwise operator used for element-wise logical AND operations on arrays. \n",
    "\n",
    "print(bmi[(bmi > 21) & (bmi < 24)])\n",
    "\n",
    "# for explicitness or complex conditions. Masked array:\n",
    "print(bmi[np.logical_and(bmi > 21, bmi < 24)])\n",
    "print(bmi[np.logical_not(bmi <= 21, bmi >= 24)])\n",
    "\n",
    "# boolean array\n",
    "print(np.logical_and(bmi > 21, bmi < 24))\n",
    "print(np.logical_not(bmi <= 21, bmi >= 24))"
   ]
  },
  {
   "cell_type": "code",
   "execution_count": 5,
   "metadata": {},
   "outputs": [
    {
     "data": {
      "text/plain": [
       "array([False, False, False,  True, False])"
      ]
     },
     "execution_count": 5,
     "metadata": {},
     "output_type": "execute_result"
    }
   ],
   "source": [
    "bmi>23"
   ]
  },
  {
   "cell_type": "code",
   "execution_count": 14,
   "metadata": {},
   "outputs": [
    {
     "name": "stdout",
     "output_type": "stream",
     "text": [
      "True\n",
      "True\n"
     ]
    }
   ],
   "source": [
    "print(True == 1)\n",
    "print(True > False)"
   ]
  },
  {
   "cell_type": "code",
   "execution_count": 27,
   "metadata": {},
   "outputs": [
    {
     "name": "stdout",
     "output_type": "stream",
     "text": [
      "False\n",
      "False\n",
      "True\n"
     ]
    }
   ],
   "source": [
    "my_kitchen = 18.0\n",
    "your_kitchen = 14.0\n",
    "\n",
    "print(my_kitchen > 10 and my_kitchen < 18)\n",
    "print(my_kitchen < 14 and my_kitchen > 17)\n",
    "print(my_kitchen*2 < your_kitchen*3)"
   ]
  },
  {
   "cell_type": "markdown",
   "metadata": {},
   "source": [
    "### 2. Transforming DataFrames\n",
    "- Sorting and subsetting\n",
    "- Introducing DataFrames"
   ]
  },
  {
   "cell_type": "code",
   "execution_count": 18,
   "metadata": {},
   "outputs": [],
   "source": [
    "# Create a list of dictionaries for the dogs' data\n",
    "import pandas as pd\n",
    "\n",
    "dogs = pd.DataFrame([\n",
    "    {\n",
    "        \"name\": \"Bella\",\n",
    "        \"breed\": \"Labrador\",\n",
    "        \"color\": \"Brown\",\n",
    "        \"height_cm\": 56,\n",
    "        \"weight_kg\": 22,\n",
    "        \"date_of_birth\": \"2013-07-01\"\n",
    "    },\n",
    "    {\n",
    "        \"name\": \"Charlie\",\n",
    "        \"breed\": \"Poodle\",\n",
    "        \"color\": \"Black\",\n",
    "        \"height_cm\": 43,\n",
    "        \"weight_kg\": 22,\n",
    "        \"date_of_birth\": \"2016-09-16\"\n",
    "    },\n",
    "    {\n",
    "        \"name\": \"Lucy\",\n",
    "        \"breed\": \"Chow Chow\",\n",
    "        \"color\": \"Brown\",\n",
    "        \"height_cm\": 46,\n",
    "        \"weight_kg\": 22,\n",
    "        \"date_of_birth\": \"2014-08-25\"\n",
    "    },\n",
    "    {\n",
    "        \"name\": \"Cooper\",\n",
    "        \"breed\": \"Schnauzer\",\n",
    "        \"color\": \"Gray\",\n",
    "        \"height_cm\": 49,\n",
    "        \"weight_kg\": 17,\n",
    "        \"date_of_birth\": \"2011-12-11\"\n",
    "    },\n",
    "    {\n",
    "        \"name\": \"Max\",\n",
    "        \"breed\": \"Labrador\",\n",
    "        \"color\": \"Black\",\n",
    "        \"height_cm\": 59,\n",
    "        \"weight_kg\": 29,\n",
    "        \"date_of_birth\": \"2017-01-20\"\n",
    "    },\n",
    "    {\n",
    "        \"name\": \"Stella\",\n",
    "        \"breed\": \"Chihuahua\",\n",
    "        \"color\": \"Tan\",\n",
    "        \"height_cm\": 18,\n",
    "        \"weight_kg\": 2.2,\n",
    "        \"date_of_birth\": \"2015-04-20\"\n",
    "    },\n",
    "    {\n",
    "        \"name\": \"Bernie\",\n",
    "        \"breed\": \"St. Bernard\",\n",
    "        \"color\": \"White\",\n",
    "        \"height_cm\": 77,\n",
    "        \"weight_kg\": 74,\n",
    "        \"date_of_birth\": \"2018-02-27\"\n",
    "    }\n",
    "])"
   ]
  },
  {
   "cell_type": "code",
   "execution_count": 47,
   "metadata": {},
   "outputs": [
    {
     "name": "stdout",
     "output_type": "stream",
     "text": [
      "      name        breed  color  height_cm  weight_kg date_of_birth\n",
      "5   Stella    Chihuahua    Tan         18        2.2    2015-04-20\n",
      "3   Cooper    Schnauzer   Gray         49       17.0    2011-12-11\n",
      "0    Bella     Labrador  Brown         56       22.0    2013-07-01\n",
      "1  Charlie       Poodle  Black         43       22.0    2016-09-16\n",
      "2     Lucy    Chow Chow  Brown         46       22.0    2014-08-25\n",
      "4      Max     Labrador  Black         59       29.0    2017-01-20\n",
      "6   Bernie  St. Bernard  White         77       74.0    2018-02-27\n",
      "\n",
      "\n",
      "      name        breed  color  height_cm  weight_kg date_of_birth\n",
      "6   Bernie  St. Bernard  White         77       74.0    2018-02-27\n",
      "4      Max     Labrador  Black         59       29.0    2017-01-20\n",
      "0    Bella     Labrador  Brown         56       22.0    2013-07-01\n",
      "1  Charlie       Poodle  Black         43       22.0    2016-09-16\n",
      "2     Lucy    Chow Chow  Brown         46       22.0    2014-08-25\n",
      "3   Cooper    Schnauzer   Gray         49       17.0    2011-12-11\n",
      "5   Stella    Chihuahua    Tan         18        2.2    2015-04-20\n",
      "\n",
      "\n",
      "      name        breed  color  height_cm  weight_kg date_of_birth\n",
      "5   Stella    Chihuahua    Tan         18        2.2    2015-04-20\n",
      "3   Cooper    Schnauzer   Gray         49       17.0    2011-12-11\n",
      "0    Bella     Labrador  Brown         56       22.0    2013-07-01\n",
      "2     Lucy    Chow Chow  Brown         46       22.0    2014-08-25\n",
      "1  Charlie       Poodle  Black         43       22.0    2016-09-16\n",
      "4      Max     Labrador  Black         59       29.0    2017-01-20\n",
      "6   Bernie  St. Bernard  White         77       74.0    2018-02-27\n",
      "\n",
      "\n"
     ]
    }
   ],
   "source": [
    "# various sorting queries\n",
    "\n",
    "queries = [\n",
    "    dogs.sort_values(\"weight_kg\"), # sort by a col, ascending\n",
    "    dogs.sort_values(\"weight_kg\", ascending = False), # sort by a col, descending\n",
    "    dogs.sort_values([\"weight_kg\", \"height_cm\"], ascending = [True, False]) # sort by multi-orders\n",
    "]\n",
    "\n",
    "for result in queries:\n",
    "    print(result)\n",
    "    print(\"\\n\")"
   ]
  },
  {
   "cell_type": "code",
   "execution_count": 53,
   "metadata": {},
   "outputs": [
    {
     "name": "stdout",
     "output_type": "stream",
     "text": [
      "0    56\n",
      "1    43\n",
      "2    46\n",
      "3    49\n",
      "4    59\n",
      "5    18\n",
      "6    77\n",
      "Name: height_cm, dtype: int64\n",
      "\n",
      "\n",
      "         breed  height_cm\n",
      "0     Labrador         56\n",
      "1       Poodle         43\n",
      "2    Chow Chow         46\n",
      "3    Schnauzer         49\n",
      "4     Labrador         59\n",
      "5    Chihuahua         18\n",
      "6  St. Bernard         77\n",
      "\n",
      "\n",
      "     name        breed  color  height_cm  weight_kg date_of_birth\n",
      "0   Bella     Labrador  Brown         56       22.0    2013-07-01\n",
      "4     Max     Labrador  Black         59       29.0    2017-01-20\n",
      "6  Bernie  St. Bernard  White         77       74.0    2018-02-27\n",
      "\n",
      "\n",
      "    name     breed  color  height_cm  weight_kg date_of_birth\n",
      "0  Bella  Labrador  Brown         56       22.0    2013-07-01\n",
      "4    Max  Labrador  Black         59       29.0    2017-01-20\n",
      "\n",
      "\n",
      "     name      breed  color  height_cm  weight_kg date_of_birth\n",
      "0   Bella   Labrador  Brown         56       22.0    2013-07-01\n",
      "2    Lucy  Chow Chow  Brown         46       22.0    2014-08-25\n",
      "3  Cooper  Schnauzer   Gray         49       17.0    2011-12-11\n",
      "\n",
      "\n",
      "    name     breed  color  height_cm  weight_kg date_of_birth\n",
      "0  Bella  Labrador  Brown         56       22.0    2013-07-01\n",
      "\n",
      "\n",
      "      name      breed  color  height_cm  weight_kg date_of_birth\n",
      "0    Bella   Labrador  Brown         56       22.0    2013-07-01\n",
      "1  Charlie     Poodle  Black         43       22.0    2016-09-16\n",
      "2     Lucy  Chow Chow  Brown         46       22.0    2014-08-25\n",
      "4      Max   Labrador  Black         59       29.0    2017-01-20\n",
      "\n",
      "\n"
     ]
    }
   ],
   "source": [
    "# various subsetting queries\n",
    "\n",
    "queries = [\n",
    "    # subset columns\n",
    "    dogs[\"height_cm\"], # subset a single col\n",
    "    dogs[[\"breed\", \"height_cm\"]], # inner brackets: pass a list. outer brackets: subset multiple cols\n",
    "    \n",
    "    # subset rows\n",
    "    dogs[dogs[\"height_cm\"] > 50], # subset rows. inner bracket: boolean mask\n",
    "    dogs[dogs[\"breed\"] == \"Labrador\"],\n",
    "    dogs[dogs[\"date_of_birth\"] < \"2015-01-01\"],\n",
    "\n",
    "    dogs[(dogs[\"breed\"] == \"Labrador\") & (dogs[\"color\"] == \"Brown\")], # subset rows based on single value. & and round brackets are required\n",
    "    dogs[dogs[\"color\"].isin([\"Black\", \"Brown\"])] #isin is a method. subset multi-rows\n",
    "    \n",
    "]\n",
    "\n",
    "for result in queries:\n",
    "    print(result)\n",
    "    print(\"\\n\")"
   ]
  },
  {
   "cell_type": "code",
   "execution_count": 69,
   "metadata": {},
   "outputs": [
    {
     "name": "stdout",
     "output_type": "stream",
     "text": [
      "<class 'pandas.core.frame.DataFrame'>\n",
      "RangeIndex: 7 entries, 0 to 6\n",
      "Data columns (total 6 columns):\n",
      " #   Column         Non-Null Count  Dtype  \n",
      "---  ------         --------------  -----  \n",
      " 0   name           7 non-null      object \n",
      " 1   breed          7 non-null      object \n",
      " 2   color          7 non-null      object \n",
      " 3   height_cm      7 non-null      int64  \n",
      " 4   weight_kg      7 non-null      float64\n",
      " 5   date_of_birth  7 non-null      object \n",
      "dtypes: float64(1), int64(1), object(4)\n",
      "memory usage: 464.0+ bytes\n",
      "      name      breed  color  height_cm  weight_kg date_of_birth\n",
      "0    Bella   Labrador  Brown         56       22.0    2013-07-01\n",
      "1  Charlie     Poodle  Black         43       22.0    2016-09-16\n",
      "2     Lucy  Chow Chow  Brown         46       22.0    2014-08-25\n",
      "\n",
      "\n",
      "None\n",
      "\n",
      "\n",
      "       height_cm  weight_kg\n",
      "count   7.000000   7.000000\n",
      "mean   49.714286  26.885714\n",
      "std    17.960274  22.371666\n",
      "min    18.000000   2.200000\n",
      "25%    44.500000  19.500000\n",
      "50%    49.000000  22.000000\n",
      "75%    57.500000  25.500000\n",
      "max    77.000000  74.000000\n",
      "\n",
      "\n",
      "(7, 6)\n",
      "\n",
      "\n",
      "Index(['name', 'breed', 'color', 'height_cm', 'weight_kg', 'date_of_birth'], dtype='object')\n",
      "\n",
      "\n",
      "RangeIndex(start=0, stop=7, step=1)\n",
      "\n",
      "\n",
      "name              object\n",
      "breed             object\n",
      "color             object\n",
      "height_cm          int64\n",
      "weight_kg        float64\n",
      "date_of_birth     object\n",
      "dtype: object\n",
      "\n",
      "\n"
     ]
    }
   ],
   "source": [
    "# various DataFrame exploration functions\n",
    "\n",
    "queries = [\n",
    "    # methods\n",
    "    dogs.head(3),\n",
    "    dogs.info(),\n",
    "    dogs.describe(),\n",
    "\n",
    "    # attributes\n",
    "    # this is an attribute returning a tuple, not method. It doesn't have parentheses. \n",
    "    dogs.shape,\n",
    "    dogs.columns,\n",
    "    dogs.index, # row labels are stored in dot-index\n",
    "    dogs.dtypes\n",
    "]\n",
    "\n",
    "for result in queries:\n",
    "    print(result)\n",
    "    print(\"\\n\")"
   ]
  },
  {
   "cell_type": "markdown",
   "metadata": {},
   "source": [
    "### 4. Regular Expressions for Pattern Matching"
   ]
  },
  {
   "cell_type": "code",
   "execution_count": 104,
   "metadata": {},
   "outputs": [],
   "source": [
    "# r'st\\d\\s\\w{3,10}'\n",
    "# r: raw string\n",
    "# st: normal characterse match themselves - s followed by a t\n",
    "# metacharacters: \n",
    "# \\d (a digit, number) \n",
    "# \\D (a non-digit, non-number) \n",
    "# \\s (a white space)\n",
    "# \\S (a non-white space)\n",
    "# \\w (a word character, or represent ideas)\n",
    "# \\W (a non-word, e.g., dollar sign)\n",
    "# {3, 10} (the character immediately to the left, \\w, should appear between 3 and 10 times)"
   ]
  },
  {
   "cell_type": "code",
   "execution_count": 2,
   "metadata": {},
   "outputs": [],
   "source": [
    "import re\n",
    "\n",
    "string1 = '''These XP are awarded based on the completion of lessons,\n",
    "    exercises within a course, or other learning activities. \n",
    "    As users progress through courses and successfully complete exercises, they accumulate XP.\n",
    "\n",
    "    The XP system is designed to motivate learners, encourage consistent learning behavior, \n",
    "    and provide a sense of accomplishment as users advance through the courses and exercises on the platform. \n",
    "    '''\n"
   ]
  },
  {
   "cell_type": "code",
   "execution_count": 94,
   "metadata": {},
   "outputs": [
    {
     "name": "stdout",
     "output_type": "stream",
     "text": [
      "['XP', 'XP', 'XP']\n",
      "['These XP are awarded based on the completion of lessons,\\n    exercises within a course, or other learning activities', ' \\n    As users progress through courses and successfully complete exercises, they accumulate XP', '\\n\\n    The XP system is designed to motivate learners, encourage consistent learning behavior, \\n    and provide a sense of accomplishment as users advance through the courses and exercises on the platform', ' \\n    ']\n"
     ]
    },
    {
     "data": {
      "text/plain": [
       "'These Exp Points are awarded based on the completion of lessons,\\n    exercises within a course, or other learning activities. \\n    As users progress through courses and successfully complete exercises, they accumulate Exp Points.\\n\\n    The Exp Points system is designed to motivate learners, encourage consistent learning behavior, \\n    and provide a sense of accomplishment as users advance through the courses and exercises on the platform. \\n    '"
      ]
     },
     "execution_count": 94,
     "metadata": {},
     "output_type": "execute_result"
    }
   ],
   "source": [
    "# Find how many sub-strings match\n",
    "print(re.findall(r\"XP\", string1))\n",
    "\n",
    "# Split the long sentence by period mark\n",
    "print(re.split(r'\\.', string1))\n",
    "\n",
    "# Replace word\n",
    "re.sub(r\"XP\", \"Exp Points\", string1)\n"
   ]
  },
  {
   "cell_type": "code",
   "execution_count": 97,
   "metadata": {},
   "outputs": [
    {
     "name": "stdout",
     "output_type": "stream",
     "text": [
      "['User9', 'User8']\n",
      "['UserN']\n",
      "['User9', 'UserN', 'User8']\n"
     ]
    }
   ],
   "source": [
    "# Find digit, non-digit\n",
    "string2 = \"The winners are: User9, UserN, User8\"\n",
    "print(re.findall(r\"User\\d\", string2))\n",
    "print(re.findall(r\"User\\D\", string2))\n",
    "print(re.findall(r\"User\\w\", string2))"
   ]
  },
  {
   "cell_type": "code",
   "execution_count": 103,
   "metadata": {},
   "outputs": [
    {
     "name": "stdout",
     "output_type": "stream",
     "text": [
      "['$5']\n",
      "['on sale', 'on sale']\n",
      "['robot-constumes']\n"
     ]
    }
   ],
   "source": [
    "# Find dollar sign + number\n",
    "string3 = \"This skirt is on sale, only $5 today! We also have robot-constumes on sale.\"\n",
    "print(re.findall(r\"\\W\\d\", string3))\n",
    "\n",
    "# Find whitespace\n",
    "print(re.findall(r\"on\\ssale\", string3))\n",
    "\n",
    "# Find non-whitespace\n",
    "print(re.findall(r\"robot\\Sconstumes\", string3))"
   ]
  },
  {
   "cell_type": "code",
   "execution_count": 3,
   "metadata": {},
   "outputs": [
    {
     "name": "stdout",
     "output_type": "stream",
     "text": [
      "Hi, World!\n"
     ]
    }
   ],
   "source": [
    "# Replace\n",
    "my_string = \"Hello, World!\"\n",
    "new_string = re.sub(r\"Hello\", \"Hi\", my_string)\n",
    "print(new_string)  # Output: Hi, World!"
   ]
  },
  {
   "cell_type": "markdown",
   "metadata": {},
   "source": [
    "### 6. Lambda Functions and Error-Handling"
   ]
  },
  {
   "cell_type": "code",
   "execution_count": 7,
   "metadata": {},
   "outputs": [
    {
     "data": {
      "text/plain": [
       "8"
      ]
     },
     "execution_count": 7,
     "metadata": {},
     "output_type": "execute_result"
    }
   ],
   "source": [
    "raise_to_power = lambda x, y: x**y\n",
    "raise_to_power(2,3)"
   ]
  },
  {
   "cell_type": "code",
   "execution_count": 13,
   "metadata": {},
   "outputs": [
    {
     "name": "stdout",
     "output_type": "stream",
     "text": [
      "<map object at 0x107b0ad90>\n",
      "[2304, 36, 81, 441, 1]\n"
     ]
    }
   ],
   "source": [
    "nums = [48, 6, 9, 21, 1]\n",
    "\n",
    "# map(): returns an iterator object which avoids unnecessary memory usage\n",
    "# simple functionalities to be anonyumously embedded within larger expressions\n",
    "\n",
    "square_all = map(lambda num: num**2, nums)  \n",
    "print(square_all)\n",
    "print(list(square_all))"
   ]
  },
  {
   "cell_type": "code",
   "execution_count": 14,
   "metadata": {},
   "outputs": [
    {
     "data": {
      "text/plain": [
       "'hello!!!'"
      ]
     },
     "execution_count": 14,
     "metadata": {},
     "output_type": "execute_result"
    }
   ],
   "source": [
    "add_bangs = lambda str: str + '!!!'\n",
    "add_bangs('hello')"
   ]
  },
  {
   "cell_type": "code",
   "execution_count": 15,
   "metadata": {},
   "outputs": [
    {
     "name": "stdout",
     "output_type": "stream",
     "text": [
      "heyheyheyheyhey\n"
     ]
    }
   ],
   "source": [
    "echo_word = lambda word1, echo: word1*echo\n",
    "result = echo_word('hey', 5)\n",
    "print(result)"
   ]
  },
  {
   "cell_type": "code",
   "execution_count": 1,
   "metadata": {},
   "outputs": [
    {
     "name": "stdout",
     "output_type": "stream",
     "text": [
      "['samwise', 'aragorn', 'boromir', 'legolas', 'gandalf']\n"
     ]
    }
   ],
   "source": [
    "# Create a list of strings: fellowship\n",
    "fellowship = ['frodo', 'samwise', 'merry', 'pippin', 'aragorn', 'boromir', 'legolas', 'gimli', 'gandalf']\n",
    "\n",
    "# Use filter() to apply a lambda function over fellowship: result\n",
    "result = filter(lambda member: len(member) > 6, fellowship)\n",
    "\n",
    "# Convert result to a list: result_list\n",
    "result_list = list(result)\n",
    "\n",
    "# Print result_list\n",
    "print(result_list)"
   ]
  },
  {
   "cell_type": "code",
   "execution_count": 2,
   "metadata": {},
   "outputs": [
    {
     "name": "stdout",
     "output_type": "stream",
     "text": [
      "robbsansaaryabrandonrickon\n"
     ]
    }
   ],
   "source": [
    "# Import reduce from functools\n",
    "from functools import reduce\n",
    "\n",
    "# Create a list of strings: stark\n",
    "stark = ['robb', 'sansa', 'arya', 'brandon', 'rickon']\n",
    "\n",
    "# Use reduce() to apply a lambda function over stark: result\n",
    "result = reduce(lambda item1, item2: item1+item2, stark)\n",
    "\n",
    "# Print the result\n",
    "print(result)"
   ]
  },
  {
   "cell_type": "markdown",
   "metadata": {},
   "source": [
    "### 7. Functions, Methods, and Packages\n",
    "- help(round) or ?round # look up documentation of a function. \n",
    "- In Python, everything is an object. Object have methods associated, depending their types. \n",
    "- E.g., \"list\" object has no attribute as \"replace\". Both \"list\" and \"string\" have \"index\" method. \n",
    "- List methods that will change the list: append(), remove(), reverse()"
   ]
  },
  {
   "cell_type": "code",
   "execution_count": 10,
   "metadata": {},
   "outputs": [
    {
     "name": "stdout",
     "output_type": "stream",
     "text": [
      "[11.25, 18.0, 20.0, 10.75, 9.5, 24.5, 15.45]\n",
      "None\n"
     ]
    }
   ],
   "source": [
    "areas = [11.25, 18.0, 20.0, 10.75, 9.50]\n",
    "\n",
    "# This doesn't work because append modifies the list in place. \n",
    "# It doesn't return a new list. It returns None.\n",
    "# areas.append(24.5).append(15.45)\n",
    "\n",
    "areas.append(24.5)\n",
    "areas.append(15.45)\n",
    "print(areas)\n",
    "print(areas.append(24.5))"
   ]
  },
  {
   "cell_type": "code",
   "execution_count": 26,
   "metadata": {},
   "outputs": [
    {
     "name": "stdout",
     "output_type": "stream",
     "text": [
      "\u001b[0;31mSignature:\u001b[0m \u001b[0mlist\u001b[0m\u001b[0;34m.\u001b[0m\u001b[0mappend\u001b[0m\u001b[0;34m(\u001b[0m\u001b[0mself\u001b[0m\u001b[0;34m,\u001b[0m \u001b[0mobject\u001b[0m\u001b[0;34m,\u001b[0m \u001b[0;34m/\u001b[0m\u001b[0;34m)\u001b[0m\u001b[0;34m\u001b[0m\u001b[0;34m\u001b[0m\u001b[0m\n",
      "\u001b[0;31mDocstring:\u001b[0m Append object to the end of the list.\n",
      "\u001b[0;31mType:\u001b[0m      method_descriptor"
     ]
    }
   ],
   "source": [
    "list.append?\n"
   ]
  },
  {
   "cell_type": "markdown",
   "metadata": {},
   "source": [
    "* Packages: a directory of Python scripts (modules). \n",
    "* https://pip.pypa.io/en/stable/installation/\n",
    "* Pros and cons of import numpy as np (preferred for clarity); from numpy import array; import numpy.array"
   ]
  },
  {
   "cell_type": "code",
   "execution_count": 17,
   "metadata": {},
   "outputs": [
    {
     "name": "stdout",
     "output_type": "stream",
     "text": [
      "       A   B  C\n",
      "Row_1  1  10  a\n",
      "Row_2  2  20  b\n",
      "Row_3  3  30  c\n",
      "Row_4  4  40  d\n",
      "Row_5  5  50  e\n",
      "       A  C\n",
      "Row_2  2  b\n",
      "Row_4  4  d\n"
     ]
    }
   ],
   "source": [
    "# Examples: using index and loc \n",
    "\n",
    "import pandas as pd\n",
    "\n",
    "# Sample DataFrame\n",
    "data = pd.DataFrame({\n",
    "    'A': [1, 2, 3, 4, 5],\n",
    "    'B': [10, 20, 30, 40, 50],\n",
    "    'C': ['a', 'b', 'c', 'd', 'e']\n",
    "}, index=['Row_1', 'Row_2', 'Row_3', 'Row_4', 'Row_5'])\n",
    "\n",
    "# Using loc and index together\n",
    "result = data.loc[data.index.isin(['Row_2', 'Row_4']), ['A', 'C']]\n",
    "print(data)\n",
    "print(result)"
   ]
  },
  {
   "cell_type": "code",
   "execution_count": 21,
   "metadata": {},
   "outputs": [
    {
     "name": "stdout",
     "output_type": "stream",
     "text": [
      "2023-12-02\n",
      "2023-12-02\n"
     ]
    }
   ],
   "source": [
    "# Two ways to retrieve today\n",
    "\n",
    "import datetime as dt\n",
    "today_date1 = dt.date.today()\n",
    "print(today_date1)\n",
    "\n",
    "today_date2 = pd.Timestamp.today().date()\n",
    "print(today_date2)\n",
    "\n",
    "# ride_sharing['ride_dt'] = pd.to_datetime(ride_sharing['ride_date']).dt.date\n",
    "# here .dt is a pandas accessor\n"
   ]
  },
  {
   "cell_type": "markdown",
   "metadata": {},
   "source": [
    "### 8. Default and Flexible Arguments"
   ]
  },
  {
   "cell_type": "code",
   "execution_count": 23,
   "metadata": {},
   "outputs": [
    {
     "name": "stdout",
     "output_type": "stream",
     "text": [
      "81\n",
      "9\n"
     ]
    }
   ],
   "source": [
    "# Default argument\n",
    "def power(number, pow = 1):\n",
    "    new_value = number ** pow\n",
    "    return new_value\n",
    "\n",
    "print(power(9,2))\n",
    "print(power(9))"
   ]
  },
  {
   "cell_type": "code",
   "execution_count": 25,
   "metadata": {},
   "outputs": [
    {
     "name": "stdout",
     "output_type": "stream",
     "text": [
      "21\n"
     ]
    }
   ],
   "source": [
    "# Flexible argument - not sure how many args user will input\n",
    "def add_all(*args):\n",
    "    sum_all = 0\n",
    "    for num in args:\n",
    "        sum_all = sum_all + num \n",
    "    return sum_all\n",
    "\n",
    "print(add_all(1, 2, 3, 4, 5, 6))"
   ]
  },
  {
   "cell_type": "code",
   "execution_count": 7,
   "metadata": {},
   "outputs": [
    {
     "name": "stdout",
     "output_type": "stream",
     "text": [
      "name:Alice\n",
      "age:30\n",
      "city:New York\n"
     ]
    }
   ],
   "source": [
    "# keyword arguments (kwargs)\n",
    "def print_all(**kwargs):\n",
    "    \"\"\"Print key-value pairs\"\"\"\n",
    "\n",
    "    for key, value in kwargs.items():\n",
    "        print(f\"{key}:{value}\") # f-strings offer a more straightforward and readable alternative\n",
    "\n",
    "print_all(name = 'Alice', age = 30, city = \"New York\")"
   ]
  },
  {
   "cell_type": "markdown",
   "metadata": {},
   "source": [
    "### 9. Visualizing DataFrames - Missing Values"
   ]
  },
  {
   "cell_type": "code",
   "execution_count": 16,
   "metadata": {},
   "outputs": [
    {
     "name": "stdout",
     "output_type": "stream",
     "text": [
      "     A    B    C      D    E\n",
      "0  1.0    a  0.1   True    X\n",
      "1  2.0    b  0.2  False  NaN\n",
      "2  NaN    c  NaN    NaN    Z\n",
      "3  4.0  NaN  0.4   True    Y\n",
      "4  5.0    e  0.5  False  NaN\n"
     ]
    }
   ],
   "source": [
    "# Sample DataFrame with missing values\n",
    "import pandas as pd\n",
    "import numpy as np\n",
    "import matplotlib.pyplot as plt \n",
    "\n",
    "data = {\n",
    "    'A': [1, 2, np.nan, 4, 5],\n",
    "    'B': ['a', 'b', 'c', np.nan, 'e'],\n",
    "    'C': [0.1, 0.2, np.nan, 0.4, 0.5],\n",
    "    'D': [True, False, np.nan, True, False],\n",
    "    'E': ['X', np.nan, 'Z', 'Y', np.nan]\n",
    "}\n",
    "\n",
    "# Create a DataFrame from the data dictionary\n",
    "df = pd.DataFrame(data)\n",
    "\n",
    "# Display the DataFrame\n",
    "print(df)"
   ]
  },
  {
   "cell_type": "code",
   "execution_count": 18,
   "metadata": {},
   "outputs": [
    {
     "data": {
      "text/html": [
       "<div>\n",
       "<style scoped>\n",
       "    .dataframe tbody tr th:only-of-type {\n",
       "        vertical-align: middle;\n",
       "    }\n",
       "\n",
       "    .dataframe tbody tr th {\n",
       "        vertical-align: top;\n",
       "    }\n",
       "\n",
       "    .dataframe thead th {\n",
       "        text-align: right;\n",
       "    }\n",
       "</style>\n",
       "<table border=\"1\" class=\"dataframe\">\n",
       "  <thead>\n",
       "    <tr style=\"text-align: right;\">\n",
       "      <th></th>\n",
       "      <th>A</th>\n",
       "      <th>B</th>\n",
       "      <th>C</th>\n",
       "      <th>D</th>\n",
       "      <th>E</th>\n",
       "    </tr>\n",
       "  </thead>\n",
       "  <tbody>\n",
       "    <tr>\n",
       "      <th>0</th>\n",
       "      <td>False</td>\n",
       "      <td>False</td>\n",
       "      <td>False</td>\n",
       "      <td>False</td>\n",
       "      <td>False</td>\n",
       "    </tr>\n",
       "    <tr>\n",
       "      <th>1</th>\n",
       "      <td>False</td>\n",
       "      <td>False</td>\n",
       "      <td>False</td>\n",
       "      <td>False</td>\n",
       "      <td>True</td>\n",
       "    </tr>\n",
       "    <tr>\n",
       "      <th>2</th>\n",
       "      <td>True</td>\n",
       "      <td>False</td>\n",
       "      <td>True</td>\n",
       "      <td>True</td>\n",
       "      <td>False</td>\n",
       "    </tr>\n",
       "    <tr>\n",
       "      <th>3</th>\n",
       "      <td>False</td>\n",
       "      <td>True</td>\n",
       "      <td>False</td>\n",
       "      <td>False</td>\n",
       "      <td>False</td>\n",
       "    </tr>\n",
       "    <tr>\n",
       "      <th>4</th>\n",
       "      <td>False</td>\n",
       "      <td>False</td>\n",
       "      <td>False</td>\n",
       "      <td>False</td>\n",
       "      <td>True</td>\n",
       "    </tr>\n",
       "  </tbody>\n",
       "</table>\n",
       "</div>"
      ],
      "text/plain": [
       "       A      B      C      D      E\n",
       "0  False  False  False  False  False\n",
       "1  False  False  False  False   True\n",
       "2   True  False   True   True  False\n",
       "3  False   True  False  False  False\n",
       "4  False  False  False  False   True"
      ]
     },
     "execution_count": 18,
     "metadata": {},
     "output_type": "execute_result"
    }
   ],
   "source": [
    "df.isna()"
   ]
  },
  {
   "cell_type": "code",
   "execution_count": 19,
   "metadata": {},
   "outputs": [
    {
     "data": {
      "text/plain": [
       "A    True\n",
       "B    True\n",
       "C    True\n",
       "D    True\n",
       "E    True\n",
       "dtype: bool"
      ]
     },
     "execution_count": 19,
     "metadata": {},
     "output_type": "execute_result"
    }
   ],
   "source": [
    "df.isna().any()"
   ]
  },
  {
   "cell_type": "code",
   "execution_count": 22,
   "metadata": {},
   "outputs": [
    {
     "data": {
      "text/plain": [
       "<Axes: >"
      ]
     },
     "execution_count": 22,
     "metadata": {},
     "output_type": "execute_result"
    },
    {
     "data": {
      "image/png": "[encoded data removed]",
      "text/plain": [
       "<Figure size 640x480 with 1 Axes>"
      ]
     },
     "metadata": {},
     "output_type": "display_data"
    }
   ],
   "source": [
    "df.isna().sum().plot(kind = \"bar\")"
   ]
  },
  {
   "cell_type": "code",
   "execution_count": 31,
   "metadata": {},
   "outputs": [
    {
     "data": {
      "image/png": "[encoded data removed]",
      "text/plain": [
       "<Figure size 640x480 with 1 Axes>"
      ]
     },
     "metadata": {},
     "output_type": "display_data"
    }
   ],
   "source": [
    "cols_with_missing=['A', 'D', 'E']\n",
    "df[cols_with_missing].hist()\n",
    "plt.show()"
   ]
  },
  {
   "cell_type": "markdown",
   "metadata": {},
   "source": [
    "### 10. Monitoring Performance and Business Value - Working with calculated and estimated results"
   ]
  },
  {
   "cell_type": "markdown",
   "metadata": {},
   "source": [
    "- Learning about NannyML\n",
    "- Different chunking methods\n",
    "- CBPE: Confidence-Based Performance Estimation \n",
    "- https://towardsdatascience.com/predict-your-models-performance-without-waiting-for-the-control-group-3f5c9363a7da\n",
    "- NannyML documentation: https://nannyml.readthedocs.io/en/stable/landing_page.html"
   ]
  },
  {
   "cell_type": "markdown",
   "metadata": {},
   "source": [
    "### 12. Common Data Problems\n",
    "- Data range constraints\n",
    "- Uniqueness constraints: How to treat complete or incomplete duplicated rows (using summary dict)\n",
    "- Data type constraints"
   ]
  },
  {
   "cell_type": "code",
   "execution_count": 2,
   "metadata": {},
   "outputs": [
    {
     "name": "stdout",
     "output_type": "stream",
     "text": [
      "   Unnamed: 0    duration  station_A_id  \\\n",
      "0           0  12 minutes            81   \n",
      "1           1  24 minutes             3   \n",
      "2           2   8 minutes            67   \n",
      "3           3   4 minutes            16   \n",
      "4           4  11 minutes            22   \n",
      "\n",
      "                                      station_A_name  station_B_id  \\\n",
      "0                                 Berry St at 4th St           323   \n",
      "1       Powell St BART Station (Market St at 4th St)           118   \n",
      "2  San Francisco Caltrain Station 2  (Townsend St...            23   \n",
      "3                            Steuart St at Market St            28   \n",
      "4                              Howard St at Beale St           350   \n",
      "\n",
      "                    station_B_name  bike_id  user_type  user_birth_year  \\\n",
      "0               Broadway at Kearny     5480          2             1959   \n",
      "1  Eureka Valley Recreation Center     5193          2             1965   \n",
      "2    The Embarcadero at Steuart St     3652          3             1993   \n",
      "3     The Embarcadero at Bryant St     1883          1             1979   \n",
      "4             8th St at Brannan St     4626          2             1994   \n",
      "\n",
      "  user_gender  \n",
      "0        Male  \n",
      "1        Male  \n",
      "2        Male  \n",
      "3        Male  \n",
      "4        Male  \n"
     ]
    }
   ],
   "source": [
    "# create some duplicated data from the ride sharing dataset\n",
    "# Duplicated: bikes that were used to travel from Station A to B\n",
    "\n",
    "load_dotenv()\n",
    "\n",
    "dir_path = os.getenv('file_path')\n",
    "file_name = 'ride_sharing_new.csv'\n",
    "\n",
    "f_path = os.path.join(dir_path, file_name)\n",
    "df = pd.read_csv(f_path)\n",
    "print(df.head())\n"
   ]
  },
  {
   "cell_type": "code",
   "execution_count": 3,
   "metadata": {},
   "outputs": [
    {
     "name": "stdout",
     "output_type": "stream",
     "text": [
      "       bike_id  station_A_id  station_B_id  user_type  user_birth_year\n",
      "10857       11             3            47          1             1987\n",
      "6088        11            67            63          2             1985\n",
      "3638        11            22           350          1             1988\n",
      "3431        27            67           100          2             1988\n",
      "2747        27             5            67          2             1992\n",
      "...        ...           ...           ...        ...              ...\n",
      "8456      6638            67            19          1             1983\n",
      "8812      6638             5           345          2             1986\n",
      "6815      6638            21           343          2             1995\n",
      "8380      6638            67            16          3             1984\n",
      "8300      6638            16            36          2             1962\n",
      "\n",
      "[25760 rows x 5 columns]\n"
     ]
    }
   ],
   "source": [
    "# select a subset of data for analysis \n",
    "df1 = df[['bike_id', 'station_A_id', 'station_B_id', 'user_type', 'user_birth_year']]\n",
    "print(df1.sort_values('bike_id'))"
   ]
  },
  {
   "cell_type": "code",
   "execution_count": 4,
   "metadata": {},
   "outputs": [
    {
     "data": {
      "text/html": [
       "<div>\n",
       "<style scoped>\n",
       "    .dataframe tbody tr th:only-of-type {\n",
       "        vertical-align: middle;\n",
       "    }\n",
       "\n",
       "    .dataframe tbody tr th {\n",
       "        vertical-align: top;\n",
       "    }\n",
       "\n",
       "    .dataframe thead th {\n",
       "        text-align: right;\n",
       "    }\n",
       "</style>\n",
       "<table border=\"1\" class=\"dataframe\">\n",
       "  <thead>\n",
       "    <tr style=\"text-align: right;\">\n",
       "      <th></th>\n",
       "      <th>bike_id</th>\n",
       "      <th>station_A_id</th>\n",
       "      <th>station_B_id</th>\n",
       "      <th>user_type</th>\n",
       "      <th>user_birth_year</th>\n",
       "    </tr>\n",
       "  </thead>\n",
       "  <tbody>\n",
       "    <tr>\n",
       "      <th>21637</th>\n",
       "      <td>27</td>\n",
       "      <td>22</td>\n",
       "      <td>30</td>\n",
       "      <td>2</td>\n",
       "      <td>1986</td>\n",
       "    </tr>\n",
       "    <tr>\n",
       "      <th>16104</th>\n",
       "      <td>27</td>\n",
       "      <td>22</td>\n",
       "      <td>30</td>\n",
       "      <td>2</td>\n",
       "      <td>1970</td>\n",
       "    </tr>\n",
       "    <tr>\n",
       "      <th>6008</th>\n",
       "      <td>62</td>\n",
       "      <td>15</td>\n",
       "      <td>15</td>\n",
       "      <td>3</td>\n",
       "      <td>1990</td>\n",
       "    </tr>\n",
       "    <tr>\n",
       "      <th>5613</th>\n",
       "      <td>62</td>\n",
       "      <td>15</td>\n",
       "      <td>15</td>\n",
       "      <td>2</td>\n",
       "      <td>1969</td>\n",
       "    </tr>\n",
       "    <tr>\n",
       "      <th>5593</th>\n",
       "      <td>62</td>\n",
       "      <td>15</td>\n",
       "      <td>15</td>\n",
       "      <td>3</td>\n",
       "      <td>1957</td>\n",
       "    </tr>\n",
       "    <tr>\n",
       "      <th>...</th>\n",
       "      <td>...</td>\n",
       "      <td>...</td>\n",
       "      <td>...</td>\n",
       "      <td>...</td>\n",
       "      <td>...</td>\n",
       "    </tr>\n",
       "    <tr>\n",
       "      <th>19939</th>\n",
       "      <td>5573</td>\n",
       "      <td>81</td>\n",
       "      <td>15</td>\n",
       "      <td>2</td>\n",
       "      <td>1996</td>\n",
       "    </tr>\n",
       "    <tr>\n",
       "      <th>18621</th>\n",
       "      <td>5575</td>\n",
       "      <td>21</td>\n",
       "      <td>81</td>\n",
       "      <td>1</td>\n",
       "      <td>1978</td>\n",
       "    </tr>\n",
       "    <tr>\n",
       "      <th>6788</th>\n",
       "      <td>5575</td>\n",
       "      <td>21</td>\n",
       "      <td>81</td>\n",
       "      <td>3</td>\n",
       "      <td>1978</td>\n",
       "    </tr>\n",
       "    <tr>\n",
       "      <th>17041</th>\n",
       "      <td>6235</td>\n",
       "      <td>3</td>\n",
       "      <td>47</td>\n",
       "      <td>2</td>\n",
       "      <td>1965</td>\n",
       "    </tr>\n",
       "    <tr>\n",
       "      <th>17721</th>\n",
       "      <td>6235</td>\n",
       "      <td>3</td>\n",
       "      <td>47</td>\n",
       "      <td>2</td>\n",
       "      <td>1984</td>\n",
       "    </tr>\n",
       "  </tbody>\n",
       "</table>\n",
       "<p>1548 rows × 5 columns</p>\n",
       "</div>"
      ],
      "text/plain": [
       "       bike_id  station_A_id  station_B_id  user_type  user_birth_year\n",
       "21637       27            22            30          2             1986\n",
       "16104       27            22            30          2             1970\n",
       "6008        62            15            15          3             1990\n",
       "5613        62            15            15          2             1969\n",
       "5593        62            15            15          3             1957\n",
       "...        ...           ...           ...        ...              ...\n",
       "19939     5573            81            15          2             1996\n",
       "18621     5575            21            81          1             1978\n",
       "6788      5575            21            81          3             1978\n",
       "17041     6235             3            47          2             1965\n",
       "17721     6235             3            47          2             1984\n",
       "\n",
       "[1548 rows x 5 columns]"
      ]
     },
     "execution_count": 4,
     "metadata": {},
     "output_type": "execute_result"
    }
   ],
   "source": [
    "# select a list of column names to check for duplications (subsetting on Metadata)\n",
    "\n",
    "cols = ['bike_id', 'station_A_id', 'station_B_id']\n",
    "duplicates = df1.duplicated(subset = cols, keep = False) # whether to keep first, last, or all (false)\n",
    "df1[duplicates].sort_values('bike_id')\n",
    "\n",
    "# result shows recodes with duplicated cols (bike id, station A, station B)"
   ]
  },
  {
   "cell_type": "code",
   "execution_count": 5,
   "metadata": {},
   "outputs": [
    {
     "name": "stderr",
     "output_type": "stream",
     "text": [
      "/var/folders/pc/0rthyg494gsg696krp682gr00000gn/T/ipykernel_2013/3744622326.py:3: SettingWithCopyWarning: \n",
      "A value is trying to be set on a copy of a slice from a DataFrame\n",
      "\n",
      "See the caveats in the documentation: https://pandas.pydata.org/pandas-docs/stable/user_guide/indexing.html#returning-a-view-versus-a-copy\n",
      "  df1.drop_duplicates(inplace = True)\n"
     ]
    }
   ],
   "source": [
    "# Result will show both complete (all rows duplicated) and incomplete duplicatesk if any. \n",
    "# Treat complete duplicates - Drop duplicates directly inside DataFrame\n",
    "df1.drop_duplicates(inplace = True)"
   ]
  },
  {
   "cell_type": "code",
   "execution_count": 6,
   "metadata": {},
   "outputs": [],
   "source": [
    "# Treat incomplete duplicates: use statistics to combine different values. \n",
    "# In our case, let's 1) take the minimum of \"user_type, and\n",
    "# 2) take the average of different user_birth_year, by cols\n",
    "\n",
    "summaries = {'user_type': 'min', 'user_birth_year': 'mean'}\n",
    "df1 = df1.groupby(by = cols).agg(summaries).reset_index()"
   ]
  },
  {
   "cell_type": "code",
   "execution_count": 7,
   "metadata": {},
   "outputs": [
    {
     "data": {
      "text/html": [
       "<div>\n",
       "<style scoped>\n",
       "    .dataframe tbody tr th:only-of-type {\n",
       "        vertical-align: middle;\n",
       "    }\n",
       "\n",
       "    .dataframe tbody tr th {\n",
       "        vertical-align: top;\n",
       "    }\n",
       "\n",
       "    .dataframe thead th {\n",
       "        text-align: right;\n",
       "    }\n",
       "</style>\n",
       "<table border=\"1\" class=\"dataframe\">\n",
       "  <thead>\n",
       "    <tr style=\"text-align: right;\">\n",
       "      <th></th>\n",
       "      <th>bike_id</th>\n",
       "      <th>station_A_id</th>\n",
       "      <th>station_B_id</th>\n",
       "      <th>user_type</th>\n",
       "      <th>user_birth_year</th>\n",
       "    </tr>\n",
       "  </thead>\n",
       "  <tbody>\n",
       "  </tbody>\n",
       "</table>\n",
       "</div>"
      ],
      "text/plain": [
       "Empty DataFrame\n",
       "Columns: [bike_id, station_A_id, station_B_id, user_type, user_birth_year]\n",
       "Index: []"
      ]
     },
     "execution_count": 7,
     "metadata": {},
     "output_type": "execute_result"
    }
   ],
   "source": [
    "# Validate we removed the duplicates\n",
    "duplicates = df1.duplicated(subset = cols, keep = False)\n",
    "df1[duplicates].sort_values(by = 'bike_id')"
   ]
  },
  {
   "cell_type": "code",
   "execution_count": 8,
   "metadata": {},
   "outputs": [
    {
     "data": {
      "text/html": [
       "<div>\n",
       "<style scoped>\n",
       "    .dataframe tbody tr th:only-of-type {\n",
       "        vertical-align: middle;\n",
       "    }\n",
       "\n",
       "    .dataframe tbody tr th {\n",
       "        vertical-align: top;\n",
       "    }\n",
       "\n",
       "    .dataframe thead th {\n",
       "        text-align: right;\n",
       "    }\n",
       "</style>\n",
       "<table border=\"1\" class=\"dataframe\">\n",
       "  <thead>\n",
       "    <tr style=\"text-align: right;\">\n",
       "      <th></th>\n",
       "      <th>bike_id</th>\n",
       "      <th>station_A_id</th>\n",
       "      <th>station_B_id</th>\n",
       "      <th>user_type</th>\n",
       "      <th>user_birth_year</th>\n",
       "    </tr>\n",
       "  </thead>\n",
       "  <tbody>\n",
       "    <tr>\n",
       "      <th>count</th>\n",
       "      <td>24965.000000</td>\n",
       "      <td>24965.000000</td>\n",
       "      <td>24965.000000</td>\n",
       "      <td>24965.000000</td>\n",
       "      <td>24965.000000</td>\n",
       "    </tr>\n",
       "    <tr>\n",
       "      <th>mean</th>\n",
       "      <td>4092.124294</td>\n",
       "      <td>31.031805</td>\n",
       "      <td>90.279952</td>\n",
       "      <td>1.997076</td>\n",
       "      <td>1983.061282</td>\n",
       "    </tr>\n",
       "    <tr>\n",
       "      <th>std</th>\n",
       "      <td>1583.408347</td>\n",
       "      <td>26.385377</td>\n",
       "      <td>105.529803</td>\n",
       "      <td>0.705030</td>\n",
       "      <td>9.944731</td>\n",
       "    </tr>\n",
       "    <tr>\n",
       "      <th>min</th>\n",
       "      <td>11.000000</td>\n",
       "      <td>3.000000</td>\n",
       "      <td>3.000000</td>\n",
       "      <td>1.000000</td>\n",
       "      <td>1901.000000</td>\n",
       "    </tr>\n",
       "    <tr>\n",
       "      <th>25%</th>\n",
       "      <td>3062.000000</td>\n",
       "      <td>15.000000</td>\n",
       "      <td>22.000000</td>\n",
       "      <td>2.000000</td>\n",
       "      <td>1978.000000</td>\n",
       "    </tr>\n",
       "    <tr>\n",
       "      <th>50%</th>\n",
       "      <td>4817.000000</td>\n",
       "      <td>21.000000</td>\n",
       "      <td>58.000000</td>\n",
       "      <td>2.000000</td>\n",
       "      <td>1985.000000</td>\n",
       "    </tr>\n",
       "    <tr>\n",
       "      <th>75%</th>\n",
       "      <td>5253.000000</td>\n",
       "      <td>67.000000</td>\n",
       "      <td>93.000000</td>\n",
       "      <td>2.000000</td>\n",
       "      <td>1990.000000</td>\n",
       "    </tr>\n",
       "    <tr>\n",
       "      <th>max</th>\n",
       "      <td>6638.000000</td>\n",
       "      <td>81.000000</td>\n",
       "      <td>383.000000</td>\n",
       "      <td>3.000000</td>\n",
       "      <td>2001.000000</td>\n",
       "    </tr>\n",
       "  </tbody>\n",
       "</table>\n",
       "</div>"
      ],
      "text/plain": [
       "            bike_id  station_A_id  station_B_id     user_type  user_birth_year\n",
       "count  24965.000000  24965.000000  24965.000000  24965.000000     24965.000000\n",
       "mean    4092.124294     31.031805     90.279952      1.997076      1983.061282\n",
       "std     1583.408347     26.385377    105.529803      0.705030         9.944731\n",
       "min       11.000000      3.000000      3.000000      1.000000      1901.000000\n",
       "25%     3062.000000     15.000000     22.000000      2.000000      1978.000000\n",
       "50%     4817.000000     21.000000     58.000000      2.000000      1985.000000\n",
       "75%     5253.000000     67.000000     93.000000      2.000000      1990.000000\n",
       "max     6638.000000     81.000000    383.000000      3.000000      2001.000000"
      ]
     },
     "execution_count": 8,
     "metadata": {},
     "output_type": "execute_result"
    }
   ],
   "source": [
    "# Convert datatype of bike_id\n",
    "df1.describe()"
   ]
  },
  {
   "cell_type": "code",
   "execution_count": 11,
   "metadata": {},
   "outputs": [
    {
     "data": {
      "text/plain": [
       "count     24965\n",
       "unique     1805\n",
       "top        4848\n",
       "freq         50\n",
       "Name: bike_id2, dtype: int64"
      ]
     },
     "execution_count": 11,
     "metadata": {},
     "output_type": "execute_result"
    }
   ],
   "source": [
    "df1['bike_id2'] = df1['bike_id'].astype('category')\n",
    "df1['bike_id2'].describe()"
   ]
  },
  {
   "cell_type": "code",
   "execution_count": 14,
   "metadata": {},
   "outputs": [],
   "source": [
    "assert df1['bike_id2'].dtype == 'category'"
   ]
  },
  {
   "cell_type": "markdown",
   "metadata": {},
   "source": [
    "### 13. Fundamental Sequence Data Types"
   ]
  },
  {
   "cell_type": "code",
   "execution_count": 15,
   "metadata": {},
   "outputs": [
    {
     "name": "stdout",
     "output_type": "stream",
     "text": [
      "Each Anzac cookie costs $1.99\n"
     ]
    }
   ],
   "source": [
    "# f-strings f\"\"\n",
    "cookie_name = \"Anzac\"\n",
    "cookie_price = \"$1.99\"\n",
    "\n",
    "print(f\"Each {cookie_name} cookie costs {cookie_price}\")"
   ]
  },
  {
   "cell_type": "code",
   "execution_count": 16,
   "metadata": {},
   "outputs": [
    {
     "name": "stdout",
     "output_type": "stream",
     "text": [
      "3, 4, 7, 8\n"
     ]
    }
   ],
   "source": [
    "child_ages = [\"3\", \"4\", \"7\", \"8\"]\n",
    "print(\", \".join(child_ages))"
   ]
  },
  {
   "cell_type": "code",
   "execution_count": 19,
   "metadata": {},
   "outputs": [
    {
     "name": "stdout",
     "output_type": "stream",
     "text": [
      "The children are ages 3,4,7, and 8.\n"
     ]
    }
   ],
   "source": [
    "print(f\"The children are ages {','.join(child_ages[0:3])}, and {child_ages[-1]}.\")"
   ]
  },
  {
   "cell_type": "code",
   "execution_count": 25,
   "metadata": {},
   "outputs": [
    {
     "name": "stdout",
     "output_type": "stream",
     "text": [
      "['Ahmed', 'Amy', 'Alice', 'Adam']\n"
     ]
    }
   ],
   "source": [
    "boy_names = ['Mohamed', 'Youssef', 'Ahmed', 'Amy', 'Alice', 'Adam']\n",
    "print([name for name in boy_names if name.startswith('A')])"
   ]
  },
  {
   "cell_type": "code",
   "execution_count": 22,
   "metadata": {},
   "outputs": [
    {
     "data": {
      "text/plain": [
       "True"
      ]
     },
     "execution_count": 22,
     "metadata": {},
     "output_type": "execute_result"
    }
   ],
   "source": [
    "\"long\" in \"Life is a long lesson in humility.\""
   ]
  },
  {
   "cell_type": "code",
   "execution_count": 23,
   "metadata": {},
   "outputs": [
    {
     "data": {
      "text/plain": [
       "True"
      ]
     },
     "execution_count": 23,
     "metadata": {},
     "output_type": "execute_result"
    }
   ],
   "source": [
    "\"life\" in \"Life is a long lesson in humility.\".lower()"
   ]
  },
  {
   "cell_type": "markdown",
   "metadata": {},
   "source": [
    "### 14. Basic Concepts of String Manipulation\n",
    "* https://app.datacamp.com/learn/fast-tracks/data-engineer-associate/continue/chapter-52467?exerciseId=804597"
   ]
  },
  {
   "cell_type": "code",
   "execution_count": 26,
   "metadata": {},
   "outputs": [
    {
     "name": "stdout",
     "output_type": "stream",
     "text": [
      "desserts I stressed\n"
     ]
    }
   ],
   "source": [
    "# A palindrome is a sequence of characters that can be read the same backward as forward\n",
    "# for example: Madam or No lemon, no melon\n",
    "movie = 'oh my God! desserts I stressed was an ugly movie'\n",
    "# Get the word\n",
    "movie_title = movie[11:30]\n",
    "\n",
    "# Obtain the palindrome\n",
    "palindrome = movie_title[::-1]\n",
    "\n",
    "# Print the word if it's a palindrome\n",
    "if movie_title == palindrome:\n",
    "\tprint(movie_title)"
   ]
  },
  {
   "cell_type": "markdown",
   "metadata": {},
   "source": [
    "### 16. Analyzing the effect of weather on policing\n",
    "* https://app.datacamp.com/learn/fast-tracks/data-engineer-associate/continue/chapter-27039?exerciseId=317494"
   ]
  },
  {
   "cell_type": "code",
   "execution_count": 35,
   "metadata": {},
   "outputs": [
    {
     "name": "stdout",
     "output_type": "stream",
     "text": [
      "       STATION        DATE  TAVG  TMIN  TMAX  AWND  WSF2  WT01  WT02  WT03  \\\n",
      "0  USW00014765  2005-01-01  44.0    35    53  8.95  25.1   1.0   NaN   NaN   \n",
      "1  USW00014765  2005-01-02  36.0    28    44  9.40  14.1   NaN   NaN   NaN   \n",
      "2  USW00014765  2005-01-03  49.0    44    53  6.93  17.0   1.0   NaN   NaN   \n",
      "3  USW00014765  2005-01-04  42.0    39    45  6.93  16.1   1.0   NaN   NaN   \n",
      "4  USW00014765  2005-01-05  36.0    28    43  7.83  17.0   1.0   NaN   NaN   \n",
      "\n",
      "   ...  WT11  WT13  WT14  WT15  WT16  WT17  WT18  WT19  WT21  WT22  \n",
      "0  ...   NaN   1.0   NaN   NaN   NaN   NaN   NaN   NaN   NaN   NaN  \n",
      "1  ...   NaN   NaN   NaN   NaN   1.0   NaN   1.0   NaN   NaN   NaN  \n",
      "2  ...   NaN   1.0   NaN   NaN   1.0   NaN   NaN   NaN   NaN   NaN  \n",
      "3  ...   NaN   1.0   1.0   NaN   1.0   NaN   NaN   NaN   NaN   NaN  \n",
      "4  ...   NaN   1.0   NaN   NaN   1.0   NaN   1.0   NaN   NaN   NaN  \n",
      "\n",
      "[5 rows x 27 columns]\n",
      "  state   stop_date stop_time  county_name driver_gender driver_race  \\\n",
      "0    RI  2005-01-04     12:55          NaN             M       White   \n",
      "1    RI  2005-01-23     23:15          NaN             M       White   \n",
      "2    RI  2005-02-17     04:15          NaN             M       White   \n",
      "3    RI  2005-02-20     17:15          NaN             M       White   \n",
      "4    RI  2005-02-24     01:20          NaN             F       White   \n",
      "\n",
      "                    violation_raw  violation  search_conducted search_type  \\\n",
      "0  Equipment/Inspection Violation  Equipment             False         NaN   \n",
      "1                        Speeding   Speeding             False         NaN   \n",
      "2                        Speeding   Speeding             False         NaN   \n",
      "3                Call for Service      Other             False         NaN   \n",
      "4                        Speeding   Speeding             False         NaN   \n",
      "\n",
      "    stop_outcome is_arrested stop_duration  drugs_related_stop district  \n",
      "0       Citation       False      0-15 Min               False  Zone X4  \n",
      "1       Citation       False      0-15 Min               False  Zone K3  \n",
      "2       Citation       False      0-15 Min               False  Zone X4  \n",
      "3  Arrest Driver        True     16-30 Min               False  Zone X1  \n",
      "4       Citation       False      0-15 Min               False  Zone X3  \n"
     ]
    }
   ],
   "source": [
    "url_weather = 'https://assets.datacamp.com/production/repositories/1497/datasets/02f3fb2d4416d3f6626e1117688e0386784e8e55/weather.csv'\n",
    "weather = pd.read_csv(url_weather)\n",
    "print(weather.head())\n",
    "\n",
    "\n",
    "url_traffic = 'https://assets.datacamp.com/production/repositories/1497/datasets/62bd9feef451860db02d26553613a299721882e8/police.csv'\n",
    "traffic = pd.read_csv(url_traffic)\n",
    "print(traffic.head())"
   ]
  },
  {
   "cell_type": "code",
   "execution_count": 28,
   "metadata": {},
   "outputs": [
    {
     "data": {
      "text/plain": [
       "(4017, 27)"
      ]
     },
     "execution_count": 28,
     "metadata": {},
     "output_type": "execute_result"
    }
   ],
   "source": [
    "weather.shape"
   ]
  },
  {
   "cell_type": "code",
   "execution_count": 29,
   "metadata": {},
   "outputs": [
    {
     "data": {
      "text/plain": [
       "Index(['STATION', 'DATE', 'TAVG', 'TMIN', 'TMAX', 'AWND', 'WSF2', 'WT01',\n",
       "       'WT02', 'WT03', 'WT04', 'WT05', 'WT06', 'WT07', 'WT08', 'WT09', 'WT10',\n",
       "       'WT11', 'WT13', 'WT14', 'WT15', 'WT16', 'WT17', 'WT18', 'WT19', 'WT21',\n",
       "       'WT22'],\n",
       "      dtype='object')"
      ]
     },
     "execution_count": 29,
     "metadata": {},
     "output_type": "execute_result"
    }
   ],
   "source": [
    "weather.columns"
   ]
  },
  {
   "cell_type": "code",
   "execution_count": 30,
   "metadata": {},
   "outputs": [],
   "source": [
    "# label-based slicing because it selects columns based on their labels.\n",
    "# compared with \"explicit column selection\"\n",
    "\n",
    "temp = weather.loc[:, 'TAVG':'TMAX']"
   ]
  },
  {
   "cell_type": "code",
   "execution_count": 31,
   "metadata": {},
   "outputs": [
    {
     "data": {
      "text/plain": [
       "(4017, 3)"
      ]
     },
     "execution_count": 31,
     "metadata": {},
     "output_type": "execute_result"
    }
   ],
   "source": [
    "temp.shape"
   ]
  },
  {
   "cell_type": "code",
   "execution_count": 32,
   "metadata": {},
   "outputs": [
    {
     "data": {
      "text/html": [
       "<div>\n",
       "<style scoped>\n",
       "    .dataframe tbody tr th:only-of-type {\n",
       "        vertical-align: middle;\n",
       "    }\n",
       "\n",
       "    .dataframe tbody tr th {\n",
       "        vertical-align: top;\n",
       "    }\n",
       "\n",
       "    .dataframe thead th {\n",
       "        text-align: right;\n",
       "    }\n",
       "</style>\n",
       "<table border=\"1\" class=\"dataframe\">\n",
       "  <thead>\n",
       "    <tr style=\"text-align: right;\">\n",
       "      <th></th>\n",
       "      <th>TAVG</th>\n",
       "      <th>TMIN</th>\n",
       "      <th>TMAX</th>\n",
       "    </tr>\n",
       "  </thead>\n",
       "  <tbody>\n",
       "    <tr>\n",
       "      <th>0</th>\n",
       "      <td>44.0</td>\n",
       "      <td>35</td>\n",
       "      <td>53</td>\n",
       "    </tr>\n",
       "    <tr>\n",
       "      <th>1</th>\n",
       "      <td>36.0</td>\n",
       "      <td>28</td>\n",
       "      <td>44</td>\n",
       "    </tr>\n",
       "    <tr>\n",
       "      <th>2</th>\n",
       "      <td>49.0</td>\n",
       "      <td>44</td>\n",
       "      <td>53</td>\n",
       "    </tr>\n",
       "    <tr>\n",
       "      <th>3</th>\n",
       "      <td>42.0</td>\n",
       "      <td>39</td>\n",
       "      <td>45</td>\n",
       "    </tr>\n",
       "    <tr>\n",
       "      <th>4</th>\n",
       "      <td>36.0</td>\n",
       "      <td>28</td>\n",
       "      <td>43</td>\n",
       "    </tr>\n",
       "  </tbody>\n",
       "</table>\n",
       "</div>"
      ],
      "text/plain": [
       "   TAVG  TMIN  TMAX\n",
       "0  44.0    35    53\n",
       "1  36.0    28    44\n",
       "2  49.0    44    53\n",
       "3  42.0    39    45\n",
       "4  36.0    28    43"
      ]
     },
     "execution_count": 32,
     "metadata": {},
     "output_type": "execute_result"
    }
   ],
   "source": [
    "temp.head()"
   ]
  },
  {
   "cell_type": "code",
   "execution_count": 33,
   "metadata": {},
   "outputs": [
    {
     "data": {
      "text/plain": [
       "TAVG     63884.0\n",
       "TMIN    174677.0\n",
       "TMAX    246116.0\n",
       "dtype: float64"
      ]
     },
     "execution_count": 33,
     "metadata": {},
     "output_type": "execute_result"
    }
   ],
   "source": [
    "temp.sum()"
   ]
  },
  {
   "cell_type": "code",
   "execution_count": 34,
   "metadata": {},
   "outputs": [
    {
     "data": {
      "text/plain": [
       "0    132.0\n",
       "1    108.0\n",
       "2    146.0\n",
       "3    126.0\n",
       "4    107.0\n",
       "dtype: float64"
      ]
     },
     "execution_count": 34,
     "metadata": {},
     "output_type": "execute_result"
    }
   ],
   "source": [
    "temp.sum(axis = 'columns').head()"
   ]
  },
  {
   "cell_type": "code",
   "execution_count": 38,
   "metadata": {},
   "outputs": [
    {
     "data": {
      "text/plain": [
       "array(['0-15 Min', '16-30 Min', nan, '30+ Min'], dtype=object)"
      ]
     },
     "execution_count": 38,
     "metadata": {},
     "output_type": "execute_result"
    }
   ],
   "source": [
    "# attribute-style access. Good if column name doesn't containt spaces.\n",
    "\n",
    "traffic.stop_duration.unique()"
   ]
  },
  {
   "cell_type": "code",
   "execution_count": 40,
   "metadata": {},
   "outputs": [
    {
     "data": {
      "text/plain": [
       "array(['0-15 Min', '16-30 Min', nan, '30+ Min'], dtype=object)"
      ]
     },
     "execution_count": 40,
     "metadata": {},
     "output_type": "execute_result"
    }
   ],
   "source": [
    "# dictionary-style access. More flexible. \n",
    "\n",
    "traffic['stop_duration'].unique()"
   ]
  },
  {
   "cell_type": "code",
   "execution_count": 41,
   "metadata": {},
   "outputs": [],
   "source": [
    "mapping = {'0-15 Min':'short',\n",
    "            '16-30 Min':'medium',\n",
    "            '30+ Min':'long'\n",
    "           }"
   ]
  },
  {
   "cell_type": "code",
   "execution_count": 43,
   "metadata": {},
   "outputs": [],
   "source": [
    "traffic['stop_length'] = traffic.stop_duration.map(mapping)"
   ]
  },
  {
   "cell_type": "code",
   "execution_count": 44,
   "metadata": {},
   "outputs": [],
   "source": [
    "traffic.stop_length = traffic.stop_duration.map(mapping)"
   ]
  },
  {
   "cell_type": "code",
   "execution_count": 45,
   "metadata": {},
   "outputs": [
    {
     "data": {
      "text/plain": [
       "dtype('O')"
      ]
     },
     "execution_count": 45,
     "metadata": {},
     "output_type": "execute_result"
    }
   ],
   "source": [
    "traffic.stop_length.dtype"
   ]
  },
  {
   "cell_type": "code",
   "execution_count": 46,
   "metadata": {},
   "outputs": [
    {
     "data": {
      "text/plain": [
       "5542534"
      ]
     },
     "execution_count": 46,
     "metadata": {},
     "output_type": "execute_result"
    }
   ],
   "source": [
    "# Check memory usage\n",
    "traffic.stop_length.memory_usage(deep = True)"
   ]
  },
  {
   "cell_type": "code",
   "execution_count": 48,
   "metadata": {},
   "outputs": [],
   "source": [
    "# change data type from object to category\n",
    "\n",
    "cats = pd.CategoricalDtype(['short', 'medium', 'long'], ordered = True)\n",
    "traffic['stop_length'] = traffic.stop_length.astype(cats)"
   ]
  },
  {
   "cell_type": "code",
   "execution_count": 49,
   "metadata": {},
   "outputs": [
    {
     "data": {
      "text/plain": [
       "CategoricalDtype(categories=['short', 'medium', 'long'], ordered=True, categories_dtype=object)"
      ]
     },
     "execution_count": 49,
     "metadata": {},
     "output_type": "execute_result"
    }
   ],
   "source": [
    "traffic.stop_length.dtype"
   ]
  },
  {
   "cell_type": "code",
   "execution_count": 51,
   "metadata": {},
   "outputs": [
    {
     "data": {
      "text/plain": [
       "92167"
      ]
     },
     "execution_count": 51,
     "metadata": {},
     "output_type": "execute_result"
    }
   ],
   "source": [
    "# Categorical datatype greatly reduce the memory usage. \n",
    "\n",
    "traffic.stop_length.memory_usage(deep = True)"
   ]
  },
  {
   "cell_type": "code",
   "execution_count": 53,
   "metadata": {},
   "outputs": [
    {
     "data": {
      "text/plain": [
       "0     short\n",
       "1     short\n",
       "2     short\n",
       "3    medium\n",
       "4     short\n",
       "Name: stop_length, dtype: category\n",
       "Categories (3, object): ['short' < 'medium' < 'long']"
      ]
     },
     "execution_count": 53,
     "metadata": {},
     "output_type": "execute_result"
    }
   ],
   "source": [
    "traffic.stop_length.head()\n",
    "\n",
    "# Categorical variable has orders"
   ]
  },
  {
   "cell_type": "code",
   "execution_count": 54,
   "metadata": {},
   "outputs": [
    {
     "data": {
      "text/plain": [
       "(16960, 16)"
      ]
     },
     "execution_count": 54,
     "metadata": {},
     "output_type": "execute_result"
    }
   ],
   "source": [
    "traffic[traffic.stop_length > 'short'].shape"
   ]
  },
  {
   "cell_type": "code",
   "execution_count": 55,
   "metadata": {},
   "outputs": [
    {
     "name": "stderr",
     "output_type": "stream",
     "text": [
      "/var/folders/pc/0rthyg494gsg696krp682gr00000gn/T/ipykernel_2013/3405069781.py:3: FutureWarning: The default of observed=False is deprecated and will be changed to True in a future version of pandas. Pass observed=False to retain current behavior or observed=True to adopt the future default and silence this warning.\n",
      "  traffic.groupby('stop_length').is_arrested.mean()\n"
     ]
    },
    {
     "data": {
      "text/plain": [
       "stop_length\n",
       "short     0.013654\n",
       "medium    0.093595\n",
       "long      0.261491\n",
       "Name: is_arrested, dtype: object"
      ]
     },
     "execution_count": 55,
     "metadata": {},
     "output_type": "execute_result"
    }
   ],
   "source": [
    "# calculation \n",
    "\n",
    "traffic.groupby('stop_length').is_arrested.mean()"
   ]
  },
  {
   "cell_type": "code",
   "execution_count": 62,
   "metadata": {},
   "outputs": [
    {
     "data": {
      "text/plain": [
       "<Axes: ylabel='Frequency'>"
      ]
     },
     "execution_count": 62,
     "metadata": {},
     "output_type": "execute_result"
    },
    {
     "data": {
      "image/png": "[encoded data removed]",
      "text/plain": [
       "<Figure size 640x480 with 1 Axes>"
      ]
     },
     "metadata": {},
     "output_type": "display_data"
    }
   ],
   "source": [
    "# Exercise: visualize bad conditions\n",
    "\n",
    "WT = weather.loc[:, 'WT01':'WT22'] # columns showing bad conditions\n",
    "\n",
    "weather.bad_conditions = WT.sum(axis = 'columns')\n",
    "\n",
    "weather['bad_conditions'] = weather.bad_conditions.fillna(0).astype('int')\n",
    "weather['bad_conditions'].plot(kind = 'hist')"
   ]
  },
  {
   "cell_type": "code",
   "execution_count": 64,
   "metadata": {},
   "outputs": [
    {
     "name": "stdout",
     "output_type": "stream",
     "text": [
      "0.0    1749\n",
      "1.0     613\n",
      "2.0     367\n",
      "3.0     380\n",
      "4.0     476\n",
      "5.0     282\n",
      "6.0     101\n",
      "7.0      41\n",
      "8.0       4\n",
      "9.0       4\n",
      "Name: count, dtype: int64\n"
     ]
    }
   ],
   "source": [
    "# Rating the weather conditions\n",
    "\n",
    "print(weather.bad_conditions.value_counts().sort_index())"
   ]
  },
  {
   "cell_type": "code",
   "execution_count": 74,
   "metadata": {},
   "outputs": [],
   "source": [
    "# create a dictionary that maps integers to strings\n",
    "\n",
    "# Define the mapping dictionary\n",
    "\n",
    "mapping = {\n",
    "    0: 'good',  # 0 maps to 'good'\n",
    "    **dict.fromkeys(range(1, 5), 'bad'),  # 1 to 4 map to 'bad'\n",
    "    **dict.fromkeys(range(5, 10), 'worse')  # 5 to 9 map to 'worse'\n",
    "}"
   ]
  },
  {
   "cell_type": "code",
   "execution_count": 75,
   "metadata": {},
   "outputs": [],
   "source": [
    "weather.rating = weather.bad_conditions.map(mapping)"
   ]
  },
  {
   "cell_type": "code",
   "execution_count": 76,
   "metadata": {},
   "outputs": [
    {
     "name": "stdout",
     "output_type": "stream",
     "text": [
      "bad      1836\n",
      "good     1749\n",
      "worse     432\n",
      "Name: count, dtype: int64\n"
     ]
    }
   ],
   "source": [
    "print(weather.rating.value_counts())"
   ]
  },
  {
   "cell_type": "code",
   "execution_count": 78,
   "metadata": {},
   "outputs": [
    {
     "name": "stdout",
     "output_type": "stream",
     "text": [
      "0    bad\n",
      "1    bad\n",
      "2    bad\n",
      "3    bad\n",
      "4    bad\n",
      "dtype: object\n"
     ]
    }
   ],
   "source": [
    "# Convert the datatype to category with logical order\n",
    "cats = pd.CategoricalDtype(['good', 'bad', 'worse'], ordered = True)\n",
    "\n",
    "# Change the data type of 'rating' to category\n",
    "weather['rating'] = weather.rating.astype(cats)\n",
    "\n",
    "print(weather.rating.head())"
   ]
  }
 ],
 "metadata": {
  "kernelspec": {
   "display_name": "Python 3",
   "language": "python",
   "name": "python3"
  },
  "language_info": {
   "codemirror_mode": {
    "name": "ipython",
    "version": 3
   },
   "file_extension": ".py",
   "mimetype": "text/x-python",
   "name": "python",
   "nbconvert_exporter": "python",
   "pygments_lexer": "ipython3",
   "version": "3.11.6"
  }
 },
 "nbformat": 4,
 "nbformat_minor": 2
}
